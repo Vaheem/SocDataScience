{
 "cells": [
  {
   "cell_type": "markdown",
   "metadata": {},
   "source": [
    "## Exercise 7: Ridge Regression for Prediction and Causal Inference"
   ]
  },
  {
   "cell_type": "code",
   "execution_count": 39,
   "metadata": {},
   "outputs": [],
   "source": [
    "import numpy as np\n",
    "import pandas as pd\n",
    "import statsmodels.api as sm\n",
    "from typing import List, Optional, Tuple, Dict, Callable"
   ]
  },
  {
   "cell_type": "markdown",
   "metadata": {},
   "source": [
    "### Task 1: Ridge Regression\n",
    "\n",
    "\n",
    "In lecture we have learned that in *ridge regression*, we want to minimize the loss function \n",
    "$$\n",
    "L(\\beta) = \\sum_{i=1}^n \\left(y_i-\\beta_0-\\sum_{j=1}^p\\beta_j x_{ij}\\right)^2 + \\lambda \\sum_{j=1}^p \\beta_j^2.\n",
    "$$\n",
    "\n",
    "#### a) Implementing the Loss\n",
    "\n",
    "Implement a function that computes the value of the loss function, using the signature in the cell below. Assume that the first column of your input matrix $X$ has all-constant values $1$ to model the intercept. "
   ]
  },
  {
   "cell_type": "code",
   "execution_count": 40,
   "metadata": {},
   "outputs": [],
   "source": [
    "def loss(X: np.ndarray, y: np.ndarray, beta: np.ndarray, reg: float) -> float:\n",
    "    \"\"\"\n",
    "    :param X: 2-dimensional numpy array of features \n",
    "    :param y: 1-dimensional array of target values\n",
    "    :param beta: current parameter vector\n",
    "    :param reg: float, regularization term (lambda)\n",
    "    :\n",
    "    :return: AUC score as float\n",
    "    \"\"\"\n",
    "    sse = np.sum(np.square(np.dot(X,beta) - y))\n",
    "    norm = np.sum(np.square(beta))\n",
    "    return sse + reg*norm"
   ]
  },
  {
   "cell_type": "markdown",
   "metadata": {},
   "source": [
    "#### b) Convexity of the Loss\n",
    "\n",
    "We explore the cost function with a practical example. Load the Iris dataset, and set up a univariate regression in which you predict petal width from petal length.\n",
    "Set  $\\beta_0 = mean(y)$ and $\\lambda = 1$, and plot the value of the cost function against $\\beta_1$ for  $\\beta_1 \\in\\{-10,-9.9,\\dots,9.9,10\\}$.  \n",
    "Is there a unique minimum? What is the sign of the derivative at $\\beta = -3$ and $\\beta = 3$? In which direction does it point - in direction of the minimum or against it?"
   ]
  },
  {
   "cell_type": "code",
   "execution_count": 41,
   "metadata": {},
   "outputs": [
    {
     "name": "stdout",
     "output_type": "stream",
     "text": [
      ".. _iris_dataset:\n",
      "\n",
      "Iris plants dataset\n",
      "--------------------\n",
      "\n",
      "**Data Set Characteristics:**\n",
      "\n",
      "    :Number of Instances: 150 (50 in each of three classes)\n",
      "    :Number of Attributes: 4 numeric, predictive attributes and the class\n",
      "    :Attribute Information:\n",
      "        - sepal length in cm\n",
      "        - sepal width in cm\n",
      "        - petal length in cm\n",
      "        - petal width in cm\n",
      "        - class:\n",
      "                - Iris-Setosa\n",
      "                - Iris-Versicolour\n",
      "                - Iris-Virginica\n",
      "                \n",
      "    :Summary Statistics:\n",
      "\n",
      "    ============== ==== ==== ======= ===== ====================\n",
      "                    Min  Max   Mean    SD   Class Correlation\n",
      "    ============== ==== ==== ======= ===== ====================\n",
      "    sepal length:   4.3  7.9   5.84   0.83    0.7826\n",
      "    sepal width:    2.0  4.4   3.05   0.43   -0.4194\n",
      "    petal length:   1.0  6.9   3.76   1.76    0.9490  (high!)\n",
      "    petal width:    0.1  2.5   1.20   0.76    0.9565  (high!)\n",
      "    ============== ==== ==== ======= ===== ====================\n",
      "\n",
      "    :Missing Attribute Values: None\n",
      "    :Class Distribution: 33.3% for each of 3 classes.\n",
      "    :Creator: R.A. Fisher\n",
      "    :Donor: Michael Marshall (MARSHALL%PLU@io.arc.nasa.gov)\n",
      "    :Date: July, 1988\n",
      "\n",
      "The famous Iris database, first used by Sir R.A. Fisher. The dataset is taken\n",
      "from Fisher's paper. Note that it's the same as in R, but not as in the UCI\n",
      "Machine Learning Repository, which has two wrong data points.\n",
      "\n",
      "This is perhaps the best known database to be found in the\n",
      "pattern recognition literature.  Fisher's paper is a classic in the field and\n",
      "is referenced frequently to this day.  (See Duda & Hart, for example.)  The\n",
      "data set contains 3 classes of 50 instances each, where each class refers to a\n",
      "type of iris plant.  One class is linearly separable from the other 2; the\n",
      "latter are NOT linearly separable from each other.\n",
      "\n",
      ".. topic:: References\n",
      "\n",
      "   - Fisher, R.A. \"The use of multiple measurements in taxonomic problems\"\n",
      "     Annual Eugenics, 7, Part II, 179-188 (1936); also in \"Contributions to\n",
      "     Mathematical Statistics\" (John Wiley, NY, 1950).\n",
      "   - Duda, R.O., & Hart, P.E. (1973) Pattern Classification and Scene Analysis.\n",
      "     (Q327.D83) John Wiley & Sons.  ISBN 0-471-22361-1.  See page 218.\n",
      "   - Dasarathy, B.V. (1980) \"Nosing Around the Neighborhood: A New System\n",
      "     Structure and Classification Rule for Recognition in Partially Exposed\n",
      "     Environments\".  IEEE Transactions on Pattern Analysis and Machine\n",
      "     Intelligence, Vol. PAMI-2, No. 1, 67-71.\n",
      "   - Gates, G.W. (1972) \"The Reduced Nearest Neighbor Rule\".  IEEE Transactions\n",
      "     on Information Theory, May 1972, 431-433.\n",
      "   - See also: 1988 MLC Proceedings, 54-64.  Cheeseman et al\"s AUTOCLASS II\n",
      "     conceptual clustering system finds 3 classes in the data.\n",
      "   - Many, many more ...\n"
     ]
    }
   ],
   "source": [
    "from sklearn import datasets\n",
    "iris = datasets.load_iris()\n",
    "print(iris.DESCR)"
   ]
  },
  {
   "cell_type": "code",
   "execution_count": 42,
   "metadata": {},
   "outputs": [],
   "source": [
    "X = iris.data[:,2]\n",
    "y = iris.data[:,3]\n",
    "\n",
    "X = np.vstack([np.ones(len(X)),X]).T\n",
    "\n",
    "b0 = np.mean(y)\n",
    "losses = []\n",
    "iv = np.arange(-10,10, step = 0.1)\n",
    "for b1 in iv:\n",
    "    losses.append(loss(X,y,np.array([b0,b1]),1))"
   ]
  },
  {
   "cell_type": "code",
   "execution_count": 43,
   "metadata": {},
   "outputs": [
    {
     "data": {
      "image/png": "[encoded data removed]",
      "text/plain": [
       "<Figure size 432x288 with 1 Axes>"
      ]
     },
     "metadata": {
      "needs_background": "light"
     },
     "output_type": "display_data"
    }
   ],
   "source": [
    "from matplotlib import pyplot as plt\n",
    "\n",
    "plt.scatter(iv,losses,s=0.2)\n",
    "plt.show()"
   ]
  },
  {
   "cell_type": "markdown",
   "metadata": {},
   "source": [
    "#### c) Gradient Descent\n",
    "\n",
    "In practice, regularized regression models regression are usually optimized by a variant of gradient descent. As discussed in lecture, in this iterative procedure one first initializes $\\beta$ at random, and then, until convergence, one updates\n",
    "$$\\beta^{new} \\gets \\beta^{old} - \\alpha\\cdot \\nabla L(\\beta^{old}), $$\n",
    "where $\\alpha$ is the so-called learning rate, and $\\nabla L(\\beta)$ the gradient of the loss function with respect to $\\beta$.\n",
    "As discussed in lecture, the gradient of the loss function is given by \n",
    "$$\n",
    "\\frac{\\partial C(\\beta)}{\\partial \\beta_k} = \\sum_{i=1}^n -2x_{ik} \\left(y_i-\\beta_0-\\sum_{j=1}^p\\beta_j x_{ij}\\right) + 2\\lambda\\beta_k,\n",
    "$$\n",
    "where for $\\beta_0$, we would have $x_{ik}=1$."
   ]
  },
  {
   "cell_type": "markdown",
   "metadata": {},
   "source": [
    "Implement a function that optimizes a ridge regression model via gradient descent, using the function signature in the cell below. Initialize your model in a way that $\\beta_0$ equals the mean of $y$ and all other elements of $\\beta$ are drawn from the standard normal distribution."
   ]
  },
  {
   "cell_type": "code",
   "execution_count": 44,
   "metadata": {},
   "outputs": [],
   "source": [
    "def ridge_GD(X: np.ndarray, y: np.ndarray, reg: float, alpha: float, eps: float, max_iter: int=10000) -> Tuple[np.ndarray,int,np.ndarray]:\n",
    "    \"\"\"\n",
    "    :param X: 2-dimensional numpy array of features \n",
    "    :param y: 1-dimensional array of target values\n",
    "    :param reg: regularization term (lambda)\n",
    "    :param alpha: learning rate\n",
    "    :param eps: convergence treshold\n",
    "    :param max_iter: maximum number of iterations in gradient descent\n",
    "    : -> break iteration when that number is reached even is we have not yet converged\n",
    "    :\n",
    "    :return: Tuple of three variables:\n",
    "    :        1. 1D numpy array containing optimal coefficients beta\n",
    "    :        2. number of iterations n_it\n",
    "    :        3. vector of loss function values in every iteration\n",
    "    :\n",
    "    \"\"\"\n",
    "    n = (np.shape(X)[0])\n",
    "    p = np.shape(X)[1] # p is the number of variables in the multiple regression\n",
    "    \n",
    "    # initilize beta vector\n",
    "    b = np.random.normal(size=p+1)\n",
    "    b[0] = np.mean(y)\n",
    "    X = np.insert(X, 0, values=1, axis=1) # add a column of ones s.t. y=X*b\n",
    "\n",
    "    # initialize losses\n",
    "    losses = [loss(X,y,b,reg)]\n",
    "    n_it = 0\n",
    "    diff = eps+1\n",
    "    \n",
    "    # now the gradient descent:\n",
    "    while n_it < max_iter and diff > eps:\n",
    "        \n",
    "        b_old = np.copy(b)\n",
    "        res = (y - np.dot(X,b)) # residual from prediction with current beta\n",
    "        \n",
    "        # gradient computation can be written in a compact way\n",
    "        d_b = (-1)*np.dot(X.T,(2*res))+2*reg*b # derivative w.r.t. b\n",
    "        \n",
    "        # parameter update\n",
    "        b = b_old - alpha*d_b\n",
    "        losses.append(loss(X,y,b,reg))\n",
    "        diff = np.linalg.norm(losses[-1]-losses[-2])\n",
    "        \n",
    "        n_it+=1\n",
    "      \n",
    "    if n_it >=max_iter:\n",
    "        print(\"Iteration has not yet converged\")\n",
    "        \n",
    "    return b, n_it, losses"
   ]
  },
  {
   "cell_type": "markdown",
   "metadata": {},
   "source": [
    "#### d) Regressing on Iris Data\n",
    "Rescale the numerical columns of the Iris data by the z-score and apply your implementation from c) to predict the petal width from all other columns, using $\\lambda = 1$, $\\alpha=0.001$, $\\epsilon=10^{-6}$. Compare the resulting parameters with those resulting from the ```statsmodels``` implementation of regularized regression fits!"
   ]
  },
  {
   "cell_type": "code",
   "execution_count": 45,
   "metadata": {},
   "outputs": [],
   "source": [
    "from scipy.stats import zscore\n",
    "\n",
    "X = iris.data[:,:-2]\n",
    "\n",
    "X = pd.DataFrame(X).apply(zscore)\n",
    "X = X.to_numpy()"
   ]
  },
  {
   "cell_type": "code",
   "execution_count": 46,
   "metadata": {},
   "outputs": [
    {
     "name": "stdout",
     "output_type": "stream",
     "text": [
      "[ 1.19139121  0.59301713 -0.20704886]\n",
      "27\n",
      "[ 1.19139121  0.59301713 -0.20704886] 27 [1235.727199817765, 557.1892413103682, 258.73340821833926, 127.41463286718712, 69.612301250205, 44.15729205591773, 32.94082485633969, 27.99488344965184, 25.812061198186704, 24.84768995994245, 24.421088494329194, 24.232086332725487, 24.14819583874661, 24.110877752456638, 24.094233199094226, 24.086786132747523, 24.083441853057625, 24.081933517319612, 24.081249805637086, 24.080938094664692, 24.080795048853606, 24.080728920744356, 24.080698101749206, 24.080683611421875, 24.080676734005237, 24.080673437478943, 24.080671841266764, 24.08067106043177]\n"
     ]
    }
   ],
   "source": [
    "beta,n_it,losses = ridge_GD(X,y,reg=1,alpha=1e-03,eps=1e-06)\n",
    "print(beta)\n",
    "print(n_it)\n",
    "print(beta,n_it,losses)"
   ]
  },
  {
   "cell_type": "code",
   "execution_count": 47,
   "metadata": {},
   "outputs": [
    {
     "data": {
      "text/plain": [
       "array([ 1.1981352 ,  0.59635388, -0.20782215])"
      ]
     },
     "execution_count": 47,
     "metadata": {},
     "output_type": "execute_result"
    }
   ],
   "source": [
    "#solution with statsmodels\n",
    "\n",
    "# need to add constant term\n",
    "X = sm.add_constant(X)\n",
    "\n",
    "# initialize model: OLS = ordinary least squares\n",
    "model = sm.OLS(y,X)\n",
    "# fit model: only now the model, i.e. the parameters are computed\n",
    "results = model.fit_regularized(alpha=1e-03, L1_wt=0)\n",
    "results.params"
   ]
  },
  {
   "cell_type": "markdown",
   "metadata": {},
   "source": [
    "#### e) The Effect of the Learning Rate\n",
    "\n",
    "Reoptimize your model using different learning rates $\\alpha \\in \\{10^{-i} : i\\in\\{1,2,3,4,5,6\\}\\}$.\n",
    "What are the effects on your optimization?"
   ]
  },
  {
   "cell_type": "code",
   "execution_count": 48,
   "metadata": {
    "scrolled": true
   },
   "outputs": [
    {
     "name": "stderr",
     "output_type": "stream",
     "text": [
      "C:\\Users\\vahee\\AppData\\Local\\Temp/ipykernel_21384/3399361051.py:10: RuntimeWarning: overflow encountered in square\n",
      "  sse = np.sum(np.square(np.dot(X,beta) - y))\n",
      "C:\\Users\\vahee\\AppData\\Local\\Temp/ipykernel_21384/3399361051.py:11: RuntimeWarning: overflow encountered in square\n",
      "  norm = np.sum(np.square(beta))\n",
      "C:\\Users\\vahee\\AppData\\Local\\Temp/ipykernel_21384/3847829045.py:42: RuntimeWarning: invalid value encountered in double_scalars\n",
      "  diff = np.linalg.norm(losses[-1]-losses[-2])\n"
     ]
    },
    {
     "name": "stdout",
     "output_type": "stream",
     "text": [
      "(0.1, 88, array([ 3.68313915e+155,  3.68313915e+155, -2.67004164e+140,\n",
      "       -5.76981041e+140]), inf)\n",
      "(0.01, 221, array([-4.79944729e+153, -4.79944729e+153,  3.34369587e+138,\n",
      "        7.63471798e+138]), inf)\n",
      "(0.001, 1794, array([ 0.60882968,  0.58651916,  0.59308902, -0.2070336 ]), 23.368855402031596)\n",
      "Iteration has not yet converged\n",
      "(0.0001, 10000, array([ 0.65615325,  0.53919559,  0.59308902, -0.2070336 ]), 23.375446069250263)\n",
      "Iteration has not yet converged\n",
      "(1e-05, 10000, array([ 0.84537627,  0.34997257,  0.59308902, -0.2070336 ]), 23.491318934702754)\n",
      "Iteration has not yet converged\n",
      "(1e-06, 10000, array([ 1.94338017, -0.75178151,  0.42391033, -0.37567351]), 34.61257021465487)\n"
     ]
    }
   ],
   "source": [
    "for alpha in [1e-01,1e-02,1e-03,1e-04,1e-05,1e-06]:\n",
    "    beta,n_it,losses = ridge_GD(X,y,reg=1,alpha=alpha,eps=1e-06)\n",
    "    print((alpha,n_it,beta,losses[-1]))\n"
   ]
  },
  {
   "cell_type": "markdown",
   "metadata": {},
   "source": [
    "### Task 2: Causal Inference \n",
    "\n",
    "In this task we use a dataset (NSW.csv) which aimed to evaluate the effect of participating in a job training program on the salary. This data was taken from the website of Gelman and Hill's book (http://www.stat.columbia.edu/~gelman/arm/), and originally constructed in two independent studies (see Gelman and Hill, chapter 10, ex. 1).\n",
    "This data contains some demographic data of its population, the real earnings in 1974 and 1975, and indicator on whether job training, i.e., the treatment, was conducted in 1976/77, and the earnings in 1978, which is our target variable. A brief documentation can be found in \"NSW.doc\". Make sure that when loading the data, you omit the sample variable which simply indicates a source that a specific observation originated from.  \n",
    "Note that there are only very few treated individuals in the dataset.g."
   ]
  },
  {
   "cell_type": "code",
   "execution_count": 11,
   "metadata": {},
   "outputs": [
    {
     "data": {
      "text/html": [
       "<div>\n",
       "<style scoped>\n",
       "    .dataframe tbody tr th:only-of-type {\n",
       "        vertical-align: middle;\n",
       "    }\n",
       "\n",
       "    .dataframe tbody tr th {\n",
       "        vertical-align: top;\n",
       "    }\n",
       "\n",
       "    .dataframe thead th {\n",
       "        text-align: right;\n",
       "    }\n",
       "</style>\n",
       "<table border=\"1\" class=\"dataframe\">\n",
       "  <thead>\n",
       "    <tr style=\"text-align: right;\">\n",
       "      <th></th>\n",
       "      <th>age</th>\n",
       "      <th>educ</th>\n",
       "      <th>black</th>\n",
       "      <th>married</th>\n",
       "      <th>nodegree</th>\n",
       "      <th>re74</th>\n",
       "      <th>re75</th>\n",
       "      <th>re78</th>\n",
       "      <th>hisp</th>\n",
       "      <th>sample</th>\n",
       "      <th>treat</th>\n",
       "      <th>educ_cat4</th>\n",
       "    </tr>\n",
       "  </thead>\n",
       "  <tbody>\n",
       "    <tr>\n",
       "      <th>1</th>\n",
       "      <td>42</td>\n",
       "      <td>16</td>\n",
       "      <td>0</td>\n",
       "      <td>1</td>\n",
       "      <td>0</td>\n",
       "      <td>0.000000</td>\n",
       "      <td>0.000000</td>\n",
       "      <td>100.485405</td>\n",
       "      <td>0</td>\n",
       "      <td>2</td>\n",
       "      <td>0</td>\n",
       "      <td>4</td>\n",
       "    </tr>\n",
       "    <tr>\n",
       "      <th>2</th>\n",
       "      <td>20</td>\n",
       "      <td>13</td>\n",
       "      <td>0</td>\n",
       "      <td>0</td>\n",
       "      <td>0</td>\n",
       "      <td>2366.794189</td>\n",
       "      <td>3317.467773</td>\n",
       "      <td>4793.745117</td>\n",
       "      <td>0</td>\n",
       "      <td>2</td>\n",
       "      <td>0</td>\n",
       "      <td>3</td>\n",
       "    </tr>\n",
       "    <tr>\n",
       "      <th>3</th>\n",
       "      <td>37</td>\n",
       "      <td>12</td>\n",
       "      <td>0</td>\n",
       "      <td>1</td>\n",
       "      <td>0</td>\n",
       "      <td>25862.322266</td>\n",
       "      <td>22781.855469</td>\n",
       "      <td>25564.669922</td>\n",
       "      <td>0</td>\n",
       "      <td>2</td>\n",
       "      <td>0</td>\n",
       "      <td>2</td>\n",
       "    </tr>\n",
       "    <tr>\n",
       "      <th>4</th>\n",
       "      <td>48</td>\n",
       "      <td>12</td>\n",
       "      <td>0</td>\n",
       "      <td>1</td>\n",
       "      <td>0</td>\n",
       "      <td>21591.121094</td>\n",
       "      <td>20839.355469</td>\n",
       "      <td>20550.744141</td>\n",
       "      <td>0</td>\n",
       "      <td>2</td>\n",
       "      <td>0</td>\n",
       "      <td>2</td>\n",
       "    </tr>\n",
       "    <tr>\n",
       "      <th>5</th>\n",
       "      <td>51</td>\n",
       "      <td>12</td>\n",
       "      <td>0</td>\n",
       "      <td>1</td>\n",
       "      <td>0</td>\n",
       "      <td>21395.193359</td>\n",
       "      <td>21575.177734</td>\n",
       "      <td>22783.587891</td>\n",
       "      <td>0</td>\n",
       "      <td>2</td>\n",
       "      <td>0</td>\n",
       "      <td>2</td>\n",
       "    </tr>\n",
       "  </tbody>\n",
       "</table>\n",
       "</div>"
      ],
      "text/plain": [
       "   age  educ  black  married  nodegree          re74          re75  \\\n",
       "1   42    16      0        1         0      0.000000      0.000000   \n",
       "2   20    13      0        0         0   2366.794189   3317.467773   \n",
       "3   37    12      0        1         0  25862.322266  22781.855469   \n",
       "4   48    12      0        1         0  21591.121094  20839.355469   \n",
       "5   51    12      0        1         0  21395.193359  21575.177734   \n",
       "\n",
       "           re78  hisp  sample  treat  educ_cat4  \n",
       "1    100.485405     0       2      0          4  \n",
       "2   4793.745117     0       2      0          3  \n",
       "3  25564.669922     0       2      0          2  \n",
       "4  20550.744141     0       2      0          2  \n",
       "5  22783.587891     0       2      0          2  "
      ]
     },
     "execution_count": 11,
     "metadata": {},
     "output_type": "execute_result"
    }
   ],
   "source": [
    "dta = pd.read_csv(\"NSW.csv\", index_col=0)\n",
    "dta.head()"
   ]
  },
  {
   "cell_type": "markdown",
   "metadata": {},
   "source": [
    "#### a) Implementing Stratification\n",
    "\n",
    "Write a function that applies stratification for causal inference and computes the corresponding average treatment effect. \n",
    "Make sure to introduce strata of (nearly) equal size, and apply a logistic regression classifier to model the propensity scores. Use the function signature specified in the cell below. "
   ]
  },
  {
   "cell_type": "code",
   "execution_count": 12,
   "metadata": {},
   "outputs": [],
   "source": [
    "from sklearn.linear_model import LogisticRegression"
   ]
  },
  {
   "cell_type": "code",
   "execution_count": 13,
   "metadata": {},
   "outputs": [],
   "source": [
    "def stratify(X: np.ndarray, y: np.ndarray, T: np.ndarray, n: int) -> float:\n",
    "    \"\"\"\n",
    "    :param X: 2-dimensional numpy array of covariates, excluding treatment and target variable \n",
    "    :param T: 1-dimensional array of binary treatment values, corresponding to instances of X\n",
    "    :param y: 1-dimensional array of target values\n",
    "    :param n: number of strata to split the data into\n",
    "    :\n",
    "    :return: average treatment effect as float\n",
    "    \"\"\"    \n",
    "    nrow = len(y)\n",
    "    \n",
    "    # compute propensity scores\n",
    "    clf = LogisticRegression(max_iter=10000)\n",
    "    clf.fit(X,T)\n",
    "    ps = clf.predict_proba(X)[:,1]\n",
    "    \n",
    "    # assign strata\n",
    "    strata = np.ceil((ps.argsort()+1) / nrow*n)\n",
    "    \n",
    "    # helper variables\n",
    "    T_y = T * y\n",
    "    Tbar_y = (1-T) * y\n",
    "    \n",
    "    # iterate over strata\n",
    "    res = 0.0\n",
    "    for s in range(1,n+1):\n",
    "        idx = np.where(strata == s)[0]\n",
    "        n_tr = np.sum(T[idx])\n",
    "        n_ct = len(idx) - n_tr\n",
    "        res += 1.0/n_tr*(np.sum(T_y[idx])/n_tr - np.sum(Tbar_y[idx])/n_ct)\n",
    "    \n",
    "    return res\n"
   ]
  },
  {
   "cell_type": "markdown",
   "metadata": {},
   "source": [
    "#### b) Applying Stratification\n",
    "\n",
    "Apply your implementation from a) on the NSW data, using $n=5$ strata. Feel free to apply varying numbers of strata. Does a big number like $n>100$ make sense for this dataset?"
   ]
  },
  {
   "cell_type": "code",
   "execution_count": 14,
   "metadata": {},
   "outputs": [],
   "source": [
    "pred_cols = ['age','black','hisp','married','educ','nodegree','re74','re75']\n",
    "X = dta[pred_cols].to_numpy()\n",
    "T = dta.treat.to_numpy()\n",
    "y = dta.re78.to_numpy()"
   ]
  },
  {
   "cell_type": "code",
   "execution_count": 15,
   "metadata": {},
   "outputs": [
    {
     "data": {
      "text/plain": [
       "-1786.286462003439"
      ]
     },
     "execution_count": 15,
     "metadata": {},
     "output_type": "execute_result"
    }
   ],
   "source": [
    "stratify(X, y, T, 5)"
   ]
  },
  {
   "cell_type": "markdown",
   "metadata": {},
   "source": [
    "__Answer:__ Due to only very few treated in the samples, large numbers of strata are a bad idea."
   ]
  },
  {
   "cell_type": "markdown",
   "metadata": {},
   "source": [
    "#### c) Implementing Propensity Score Weighting\n",
    "\n",
    "Write a function that applies propensity score weighting for causal inference and computes the corresponding average treatment effect. Again, apply a logistic regression classifier to model the propensity scores. Use the function signature specified in the cell below. "
   ]
  },
  {
   "cell_type": "code",
   "execution_count": 16,
   "metadata": {},
   "outputs": [],
   "source": [
    "def propensity_weighting(X: np.ndarray, y: np.ndarray, T: np.ndarray) -> float:\n",
    "    \"\"\"\n",
    "    :param X: 2-dimensional numpy array of covariates, excluding treatment and target variable \n",
    "    :param T: 1-dimensional array of binary treatment values, corresponding to instances of X\n",
    "    :param y: 1-dimensional array of target values\n",
    "    :\n",
    "    :return: average treatment effect as float\n",
    "    \"\"\"    \n",
    "    nrow = len(y)\n",
    "    \n",
    "    # compute propensity scores\n",
    "    clf = LogisticRegression(max_iter = 10000)\n",
    "    clf.fit(X,T)\n",
    "    ps = clf.predict_proba(X)[:,1]\n",
    "    \n",
    "    # declare helper variables\n",
    "    w = np.zeros(nrow)\n",
    "    N_tr, N_ct = 0,0\n",
    "    sum_tr, sum_ct = 0,0\n",
    "    \n",
    "    # iterate over all samples\n",
    "    for i in range(nrow):\n",
    "        \n",
    "        # compute weight w_i\n",
    "        w[i] = (T[i])/(ps[i]) + (1-T[i])/(1-ps[i])\n",
    "        \n",
    "        # update sums elementwise\n",
    "        N_tr += T[i]/ps[i]\n",
    "        N_ct += (1-T[i])/(1-ps[i])\n",
    "        \n",
    "        sum_tr += T[i]*w[i]*y[i]\n",
    "        sum_ct += (1-T[i])*w[i]*y[i]\n",
    "        \n",
    "    return 1/N_tr * sum_tr - 1/N_ct * sum_ct "
   ]
  },
  {
   "cell_type": "markdown",
   "metadata": {},
   "source": [
    "#### d) Applying Propensity Score Weighting\n",
    "\n",
    "Apply your implementation from c) on the NSW data, and compare the result to the ATE from b) as well as the unweighted and unstratified ATE. What do you observe?"
   ]
  },
  {
   "cell_type": "code",
   "execution_count": 17,
   "metadata": {},
   "outputs": [
    {
     "data": {
      "text/plain": [
       "-8309.539404883646"
      ]
     },
     "execution_count": 17,
     "metadata": {},
     "output_type": "execute_result"
    }
   ],
   "source": [
    "propensity_weighting(X, y, T)"
   ]
  },
  {
   "cell_type": "markdown",
   "metadata": {},
   "source": [
    "__Answer__: Again, we seem to observe a very negative treatment effect."
   ]
  },
  {
   "cell_type": "markdown",
   "metadata": {},
   "source": [
    "#### e) Propensity Score Matching\n",
    "\n",
    "Finally, we want to apply propensity score matching on the NSW data.\n",
    "Note that due to the strong imbalance between the cardinalities of the control group and the treatment group, you do not need to consider a calliper in this task, and may implicitly assume that the treated group is much smaller in your implementation."
   ]
  },
  {
   "cell_type": "code",
   "execution_count": 18,
   "metadata": {},
   "outputs": [],
   "source": [
    "def propensity_matching(X: np.ndarray, y: np.ndarray, T: np.ndarray) -> float:\n",
    "    \"\"\"\n",
    "    :param X: 2-dimensional numpy array of covariates, excluding treatment and target variable \n",
    "    :param T: 1-dimensional array of binary treatment values, corresponding to instances of X\n",
    "    :param y: 1-dimensional array of target values\n",
    "    :\n",
    "    :return: average treatment effect as float\n",
    "    \"\"\"\n",
    "    \n",
    "    # compute propensity scores\n",
    "    clf = LogisticRegression(max_iter = 10000)\n",
    "    clf.fit(X,T)\n",
    "    ps = clf.predict_proba(X)[:,1]\n",
    "    \n",
    "    y_treated = y[T==1]\n",
    "    y_untreated = y[T==0]\n",
    "    ps_treated = ps[T==1]\n",
    "    ps_untreated = ps[T==0]\n",
    "    \n",
    "    idx_matches = []\n",
    "    best_match=0\n",
    "    for i,o2 in enumerate(ps_treated):\n",
    "        \n",
    "        #compute distances:\n",
    "        distances = [abs(o1 - o2) for o1 in ps_untreated]\n",
    "        \n",
    "        # get best match via argmin\n",
    "        best_match = np.argmin(distances)\n",
    "        \n",
    "        #store the matching\n",
    "        idx_matches.append(best_match)\n",
    "        \n",
    "        # make sure that matched instances are not re-assigned\n",
    "        ps_untreated[best_match] = np.inf\n",
    "        \n",
    "    return np.mean(y_treated - y_untreated[idx_matches])"
   ]
  },
  {
   "cell_type": "markdown",
   "metadata": {},
   "source": [
    "#### f) Applying Greedy Matching\n",
    "\n",
    "Apply your implementation from e) on the NSW data and use the matching to compute the ATE score on matched data, and compare the result to the ATEs from b) and d) as well as the unweighted and unstratified ATE. What do you observe?"
   ]
  },
  {
   "cell_type": "code",
   "execution_count": 19,
   "metadata": {},
   "outputs": [
    {
     "data": {
      "text/plain": [
       "803.4433216610468"
      ]
     },
     "execution_count": 19,
     "metadata": {},
     "output_type": "execute_result"
    }
   ],
   "source": [
    "propensity_matching(X, y, T)"
   ]
  },
  {
   "cell_type": "markdown",
   "metadata": {},
   "source": [
    "__Answer__: According to propensity score matching, job training now seems to have a very positive effect on the income."
   ]
  }
 ],
 "metadata": {
  "kernelspec": {
   "display_name": "Python 3 (ipykernel)",
   "language": "python",
   "name": "python3"
  },
  "language_info": {
   "codemirror_mode": {
    "name": "ipython",
    "version": 3
   },
   "file_extension": ".py",
   "mimetype": "text/x-python",
   "name": "python",
   "nbconvert_exporter": "python",
   "pygments_lexer": "ipython3",
   "version": "3.9.7"
  }
 },
 "nbformat": 4,
 "nbformat_minor": 2
}
