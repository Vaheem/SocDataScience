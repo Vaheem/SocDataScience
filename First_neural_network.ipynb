{
 "cells": [
  {
   "cell_type": "code",
   "execution_count": 145,
   "id": "2505e4a5",
   "metadata": {},
   "outputs": [],
   "source": [
    "import pandas as pd\n",
    "import numpy as np\n",
    "import math"
   ]
  },
  {
   "cell_type": "code",
   "execution_count": 146,
   "id": "54155bf6",
   "metadata": {},
   "outputs": [
    {
     "name": "stdout",
     "output_type": "stream",
     "text": [
      "[[2]\n",
      " [3]\n",
      " [7]]\n",
      "(1, 3)\n"
     ]
    }
   ],
   "source": [
    "c = np.array([[2,3,7]])\n",
    "d = np.array([3,2,0])\n",
    "print(np.transpose(c))\n",
    "print(c.shape)\n"
   ]
  },
  {
   "cell_type": "code",
   "execution_count": 147,
   "id": "7c7d77b0",
   "metadata": {},
   "outputs": [
    {
     "data": {
      "text/html": [
       "<div>\n",
       "<style scoped>\n",
       "    .dataframe tbody tr th:only-of-type {\n",
       "        vertical-align: middle;\n",
       "    }\n",
       "\n",
       "    .dataframe tbody tr th {\n",
       "        vertical-align: top;\n",
       "    }\n",
       "\n",
       "    .dataframe thead th {\n",
       "        text-align: right;\n",
       "    }\n",
       "</style>\n",
       "<table border=\"1\" class=\"dataframe\">\n",
       "  <thead>\n",
       "    <tr style=\"text-align: right;\">\n",
       "      <th></th>\n",
       "      <th>sepal_length</th>\n",
       "      <th>sepal_width</th>\n",
       "      <th>petal_length</th>\n",
       "      <th>petal_width</th>\n",
       "      <th>species</th>\n",
       "    </tr>\n",
       "  </thead>\n",
       "  <tbody>\n",
       "    <tr>\n",
       "      <th>0</th>\n",
       "      <td>5.1</td>\n",
       "      <td>3.5</td>\n",
       "      <td>1.4</td>\n",
       "      <td>0.2</td>\n",
       "      <td>Iris-setosa</td>\n",
       "    </tr>\n",
       "    <tr>\n",
       "      <th>1</th>\n",
       "      <td>4.9</td>\n",
       "      <td>3.0</td>\n",
       "      <td>1.4</td>\n",
       "      <td>0.2</td>\n",
       "      <td>Iris-setosa</td>\n",
       "    </tr>\n",
       "    <tr>\n",
       "      <th>2</th>\n",
       "      <td>4.7</td>\n",
       "      <td>3.2</td>\n",
       "      <td>1.3</td>\n",
       "      <td>0.2</td>\n",
       "      <td>Iris-setosa</td>\n",
       "    </tr>\n",
       "    <tr>\n",
       "      <th>3</th>\n",
       "      <td>4.6</td>\n",
       "      <td>3.1</td>\n",
       "      <td>1.5</td>\n",
       "      <td>0.2</td>\n",
       "      <td>Iris-setosa</td>\n",
       "    </tr>\n",
       "    <tr>\n",
       "      <th>4</th>\n",
       "      <td>5.0</td>\n",
       "      <td>3.6</td>\n",
       "      <td>1.4</td>\n",
       "      <td>0.2</td>\n",
       "      <td>Iris-setosa</td>\n",
       "    </tr>\n",
       "  </tbody>\n",
       "</table>\n",
       "</div>"
      ],
      "text/plain": [
       "   sepal_length  sepal_width  petal_length  petal_width      species\n",
       "0           5.1          3.5           1.4          0.2  Iris-setosa\n",
       "1           4.9          3.0           1.4          0.2  Iris-setosa\n",
       "2           4.7          3.2           1.3          0.2  Iris-setosa\n",
       "3           4.6          3.1           1.5          0.2  Iris-setosa\n",
       "4           5.0          3.6           1.4          0.2  Iris-setosa"
      ]
     },
     "execution_count": 147,
     "metadata": {},
     "output_type": "execute_result"
    }
   ],
   "source": [
    "#Load the iris dataset\n",
    "df = pd.read_csv (\"https://archive.ics.uci.edu/ml/machine-learning-databases/iris/iris.data\", names = [\"sepal_length\", \"sepal_width\", \"petal_length\", \"petal_width\", \"species\"])\n",
    "df.head()"
   ]
  },
  {
   "cell_type": "code",
   "execution_count": 197,
   "id": "2a4f535d",
   "metadata": {},
   "outputs": [
    {
     "data": {
      "text/plain": [
       "(150, 2)"
      ]
     },
     "execution_count": 197,
     "metadata": {},
     "output_type": "execute_result"
    }
   ],
   "source": [
    "#We are going to build a neural network which tries to predict the petal_length from sepa_length and sepal_width\n",
    "\n",
    "#First we assign the feature matrix and target value\n",
    "X = (df.iloc[:,:2]).to_numpy()\n",
    "t = (df.iloc[:,2]).to_numpy()\n",
    "#t = sigmoid(t)\n",
    "t = t / np.linalg.norm(t)\n",
    "X.shape"
   ]
  },
  {
   "cell_type": "code",
   "execution_count": 198,
   "id": "ea0a76e0",
   "metadata": {},
   "outputs": [
    {
     "data": {
      "text/plain": [
       "0.11805626722019105"
      ]
     },
     "execution_count": 198,
     "metadata": {},
     "output_type": "execute_result"
    }
   ],
   "source": [
    "t[100]"
   ]
  },
  {
   "cell_type": "code",
   "execution_count": 199,
   "id": "98ba1ace",
   "metadata": {},
   "outputs": [],
   "source": [
    "#from sklearn.model_selection import train_test_split\n",
    "#X_train, X_test, y_train, y_test = train_test_split(X, y, test_size=0.33, random_state=42)"
   ]
  },
  {
   "cell_type": "code",
   "execution_count": 200,
   "id": "a27ac218",
   "metadata": {},
   "outputs": [],
   "source": [
    "#Now let's create the neural network\n",
    "#As this is my first neural network it is going to have only one hidden layer\n",
    "#Two input nodes, two nodes in the hidden layer and one node in the output layer\n",
    "#    x1------>0------\\\n",
    "#                     0-->\n",
    "#    x2------>0------/\n",
    "\n",
    "\n",
    "\n",
    "def init_params():\n",
    "    #Lets now create the weight matrix W1 for the first layer. W1 is a 2x2 matrix\n",
    "    # W1 = [[w11, w21]\n",
    "    #       [w12, w22]]\n",
    "    W1 = np.random.normal(size=(2,2))\n",
    "\n",
    "    #Lets now create the weight matrix W2 for the second layer. W2 is a 1x2 matrix\n",
    "    # W2 = [[w11, w21]]\n",
    "\n",
    "    W2 = np.random.normal(size=(1,2))\n",
    "    return W1, W2\n"
   ]
  },
  {
   "cell_type": "code",
   "execution_count": 201,
   "id": "5ac840be",
   "metadata": {},
   "outputs": [],
   "source": [
    "#Now lets implement some functions which help us to implement forward passing\n",
    "\n",
    "#We use the sigmoid function as activation function\n",
    "def sigmoid(node_sum: np.ndarray) -> np.ndarray:\n",
    "    sigmoid_array = []\n",
    "    for item in node_sum:\n",
    "        sigmoid_array.append(1 / (1 + math.exp(-item)))\n",
    "    np.asarray(sigmoid_array)\n",
    "    return sigmoid_array\n",
    "    "
   ]
  },
  {
   "cell_type": "code",
   "execution_count": 202,
   "id": "b28c778f",
   "metadata": {},
   "outputs": [
    {
     "name": "stdout",
     "output_type": "stream",
     "text": [
      "[0.9820137900379085, 0.9933071490757153]\n"
     ]
    }
   ],
   "source": [
    "a = np.array([4,5])\n",
    "print(sigmoid(a))\n"
   ]
  },
  {
   "cell_type": "code",
   "execution_count": 203,
   "id": "0dac6da7",
   "metadata": {},
   "outputs": [],
   "source": [
    "#Forward Passing\n",
    "#Now lets implement the forward passing function for one instance of the data x1 in X\n",
    "def forwardPassing(x: np.ndarray, W1: np.ndarray, W2: np.ndarray) -> tuple:\n",
    "    x = x.T\n",
    "    A1 = np.dot(W1,x)\n",
    "    Z1 = sigmoid(A1)\n",
    "    A2 = np.dot(W2, Z1)\n",
    "    Z2 = sigmoid(A2)\n",
    "    #Z2 is the output of the output layer\n",
    "    return A1, Z1, A2, Z2"
   ]
  },
  {
   "cell_type": "code",
   "execution_count": 204,
   "id": "3140f5b2",
   "metadata": {},
   "outputs": [],
   "source": [
    "#Loss function for one instance without regularization\n",
    "#L(Weight matrix) where t is the predicted value and t is the target value\n",
    "def loss(Z2: np.ndarray, t: float) -> float:\n",
    "    #y = forwardPassing(x, W1, W2)\n",
    "    return (t - Z2) ** 2"
   ]
  },
  {
   "cell_type": "code",
   "execution_count": 205,
   "id": "f7f97165",
   "metadata": {},
   "outputs": [],
   "source": [
    "#Now let's implement the backpropagation algorithm of the loss function for only one instance"
   ]
  },
  {
   "cell_type": "code",
   "execution_count": 206,
   "id": "5857a8a6",
   "metadata": {},
   "outputs": [],
   "source": [
    "def backPropagation(W1: np.ndarray, W2: np.ndarray, Z1: np.ndarray, Z2: np.ndarray, t: float, x: np.ndarray) -> tuple:\n",
    "    dA3 = (Z2 - t) * Z2 * (np.asarray([1.0]) - Z2)  \n",
    "    dW2 =  dA3 * Z1\n",
    "    \n",
    "    dW1 = np.dot((dA3 * W2 * Z1 * (np.asarray([1.0]) - Z1)).T, np.array([x]))\n",
    "    return dW1, dW2"
   ]
  },
  {
   "cell_type": "code",
   "execution_count": 207,
   "id": "2278c8b3",
   "metadata": {},
   "outputs": [],
   "source": [
    "def updateParams(W1: np.ndarray, W2: np.ndarray, dW1: np.ndarray, dW2: np.ndarray, alpha) -> tuple:\n",
    "    W1 = W1 - alpha * dW1 \n",
    "    W2 = W2 - alpha * dW2 \n",
    "    return W1, W2"
   ]
  },
  {
   "cell_type": "code",
   "execution_count": 208,
   "id": "bba8aae2",
   "metadata": {},
   "outputs": [],
   "source": [
    "#print(updateParams(W1, W2, dW1, dW2, 1))"
   ]
  },
  {
   "cell_type": "code",
   "execution_count": 209,
   "id": "62b644e0",
   "metadata": {},
   "outputs": [],
   "source": [
    "def gradientDescent(X: np.ndarray, t: np.ndarray, iterations: int, alpha: float) -> tuple:\n",
    "    W1, W2 = init_params()\n",
    "    #print(W1,W2)\n",
    "    for i in range(iterations):\n",
    "        j = i % 150\n",
    "        A1, Z1, A2, Z2 = forwardPassing(X[j], W1, W2)\n",
    "        dW1, dW2 = backPropagation(W1, W2, Z1, Z2, t[j], X[j])\n",
    "        W1, W2 = updateParams(W1, W2, dW1, dW2, alpha)\n",
    "        #print(W1,W2)\n",
    "        print(t[j])\n",
    "        print(Z2)\n",
    "        print(loss(Z2, t[j]))\n",
    "        print(\"\")\n",
    "        if loss(Z2, t[j]) < 0.01:\n",
    "            break\n",
    "    return W1, W2\n",
    "    "
   ]
  },
  {
   "cell_type": "code",
   "execution_count": 216,
   "id": "780baf96",
   "metadata": {},
   "outputs": [
    {
     "name": "stdout",
     "output_type": "stream",
     "text": [
      "0.02754646235137791\n",
      "[0.07686875400443614]\n",
      "[0.00243269]\n",
      "\n",
      "[[-0.08124149  0.85939258]\n",
      " [ 1.44193389 -1.23633759]] [[-1.86643464 -0.78545631]]\n"
     ]
    }
   ],
   "source": [
    "W1, W2 = gradientDescent(X, t, 10000, 0.01)\n",
    "print(W1, W2)"
   ]
  },
  {
   "cell_type": "code",
   "execution_count": 218,
   "id": "617d56f1",
   "metadata": {},
   "outputs": [
    {
     "name": "stdout",
     "output_type": "stream",
     "text": [
      "[0.07678482093046682]\n"
     ]
    },
    {
     "data": {
      "text/plain": [
       "0.03344927571238746"
      ]
     },
     "execution_count": 218,
     "metadata": {},
     "output_type": "execute_result"
    }
   ],
   "source": [
    "print(forwardPassing(X[20], W1, W2)[-1])\n",
    "t[20]"
   ]
  },
  {
   "cell_type": "code",
   "execution_count": null,
   "id": "e34de814",
   "metadata": {},
   "outputs": [],
   "source": []
  }
 ],
 "metadata": {
  "kernelspec": {
   "display_name": "Python 3 (ipykernel)",
   "language": "python",
   "name": "python3"
  },
  "language_info": {
   "codemirror_mode": {
    "name": "ipython",
    "version": 3
   },
   "file_extension": ".py",
   "mimetype": "text/x-python",
   "name": "python",
   "nbconvert_exporter": "python",
   "pygments_lexer": "ipython3",
   "version": "3.9.7"
  }
 },
 "nbformat": 4,
 "nbformat_minor": 5
}
