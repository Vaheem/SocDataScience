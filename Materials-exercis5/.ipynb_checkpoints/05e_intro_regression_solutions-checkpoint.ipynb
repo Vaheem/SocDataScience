{
 "cells": [
  {
   "cell_type": "markdown",
   "metadata": {},
   "source": [
    "## Exercise 5: Introduction to Regression"
   ]
  },
  {
   "cell_type": "code",
   "execution_count": 1,
   "metadata": {},
   "outputs": [],
   "source": [
    "import numpy as np\n",
    "import pandas as pd\n",
    "import statsmodels.api as sm\n",
    "from matplotlib import pyplot as plt"
   ]
  },
  {
   "cell_type": "markdown",
   "metadata": {},
   "source": [
    "### Examples: Linear Regression With Statsmodels\n",
    "\n",
    "Next to ```scikit-learn```, ```statsmodels``` is probably the most popular Python package for regression. While the focus of ```scikit-learn``` (will be covered next week) rather lies on machine learning applications, ```statsmodels``` (as the name suggests) has a rather statitics-oriented focus. We will briefly present the basic functionality of its regression functions by revisiting the Iris data set."
   ]
  },
  {
   "cell_type": "code",
   "execution_count": 2,
   "metadata": {},
   "outputs": [
    {
     "data": {
      "text/html": [
       "<div>\n",
       "<style scoped>\n",
       "    .dataframe tbody tr th:only-of-type {\n",
       "        vertical-align: middle;\n",
       "    }\n",
       "\n",
       "    .dataframe tbody tr th {\n",
       "        vertical-align: top;\n",
       "    }\n",
       "\n",
       "    .dataframe thead th {\n",
       "        text-align: right;\n",
       "    }\n",
       "</style>\n",
       "<table border=\"1\" class=\"dataframe\">\n",
       "  <thead>\n",
       "    <tr style=\"text-align: right;\">\n",
       "      <th></th>\n",
       "      <th>sepal_length</th>\n",
       "      <th>sepal_width</th>\n",
       "      <th>petal_length</th>\n",
       "      <th>petal_width</th>\n",
       "      <th>species</th>\n",
       "    </tr>\n",
       "  </thead>\n",
       "  <tbody>\n",
       "    <tr>\n",
       "      <th>0</th>\n",
       "      <td>5.1</td>\n",
       "      <td>3.5</td>\n",
       "      <td>1.4</td>\n",
       "      <td>0.2</td>\n",
       "      <td>Iris-setosa</td>\n",
       "    </tr>\n",
       "    <tr>\n",
       "      <th>1</th>\n",
       "      <td>4.9</td>\n",
       "      <td>3.0</td>\n",
       "      <td>1.4</td>\n",
       "      <td>0.2</td>\n",
       "      <td>Iris-setosa</td>\n",
       "    </tr>\n",
       "    <tr>\n",
       "      <th>2</th>\n",
       "      <td>4.7</td>\n",
       "      <td>3.2</td>\n",
       "      <td>1.3</td>\n",
       "      <td>0.2</td>\n",
       "      <td>Iris-setosa</td>\n",
       "    </tr>\n",
       "    <tr>\n",
       "      <th>3</th>\n",
       "      <td>4.6</td>\n",
       "      <td>3.1</td>\n",
       "      <td>1.5</td>\n",
       "      <td>0.2</td>\n",
       "      <td>Iris-setosa</td>\n",
       "    </tr>\n",
       "    <tr>\n",
       "      <th>4</th>\n",
       "      <td>5.0</td>\n",
       "      <td>3.6</td>\n",
       "      <td>1.4</td>\n",
       "      <td>0.2</td>\n",
       "      <td>Iris-setosa</td>\n",
       "    </tr>\n",
       "  </tbody>\n",
       "</table>\n",
       "</div>"
      ],
      "text/plain": [
       "   sepal_length  sepal_width  petal_length  petal_width      species\n",
       "0           5.1          3.5           1.4          0.2  Iris-setosa\n",
       "1           4.9          3.0           1.4          0.2  Iris-setosa\n",
       "2           4.7          3.2           1.3          0.2  Iris-setosa\n",
       "3           4.6          3.1           1.5          0.2  Iris-setosa\n",
       "4           5.0          3.6           1.4          0.2  Iris-setosa"
      ]
     },
     "execution_count": 2,
     "metadata": {},
     "output_type": "execute_result"
    }
   ],
   "source": [
    "# read in data\n",
    "df = pd.read_csv (\"https://archive.ics.uci.edu/ml/machine-learning-databases/iris/iris.data\", names = [\"sepal_length\", \"sepal_width\", \"petal_length\", \"petal_width\", \"species\"])\n",
    "df.head()"
   ]
  },
  {
   "cell_type": "markdown",
   "metadata": {},
   "source": [
    "#### Example 1: Bivariate Prediction\n",
    "We want to fit a regession model that estimates sepal length from sepal width."
   ]
  },
  {
   "cell_type": "code",
   "execution_count": 4,
   "metadata": {},
   "outputs": [
    {
     "data": {
      "text/html": [
       "<div>\n",
       "<style scoped>\n",
       "    .dataframe tbody tr th:only-of-type {\n",
       "        vertical-align: middle;\n",
       "    }\n",
       "\n",
       "    .dataframe tbody tr th {\n",
       "        vertical-align: top;\n",
       "    }\n",
       "\n",
       "    .dataframe thead th {\n",
       "        text-align: right;\n",
       "    }\n",
       "</style>\n",
       "<table border=\"1\" class=\"dataframe\">\n",
       "  <thead>\n",
       "    <tr style=\"text-align: right;\">\n",
       "      <th></th>\n",
       "      <th>const</th>\n",
       "      <th>sepal_width</th>\n",
       "    </tr>\n",
       "  </thead>\n",
       "  <tbody>\n",
       "    <tr>\n",
       "      <th>0</th>\n",
       "      <td>1.0</td>\n",
       "      <td>3.5</td>\n",
       "    </tr>\n",
       "    <tr>\n",
       "      <th>1</th>\n",
       "      <td>1.0</td>\n",
       "      <td>3.0</td>\n",
       "    </tr>\n",
       "    <tr>\n",
       "      <th>2</th>\n",
       "      <td>1.0</td>\n",
       "      <td>3.2</td>\n",
       "    </tr>\n",
       "    <tr>\n",
       "      <th>3</th>\n",
       "      <td>1.0</td>\n",
       "      <td>3.1</td>\n",
       "    </tr>\n",
       "    <tr>\n",
       "      <th>4</th>\n",
       "      <td>1.0</td>\n",
       "      <td>3.6</td>\n",
       "    </tr>\n",
       "    <tr>\n",
       "      <th>5</th>\n",
       "      <td>1.0</td>\n",
       "      <td>3.9</td>\n",
       "    </tr>\n",
       "    <tr>\n",
       "      <th>6</th>\n",
       "      <td>1.0</td>\n",
       "      <td>3.4</td>\n",
       "    </tr>\n",
       "    <tr>\n",
       "      <th>7</th>\n",
       "      <td>1.0</td>\n",
       "      <td>3.4</td>\n",
       "    </tr>\n",
       "    <tr>\n",
       "      <th>8</th>\n",
       "      <td>1.0</td>\n",
       "      <td>2.9</td>\n",
       "    </tr>\n",
       "    <tr>\n",
       "      <th>9</th>\n",
       "      <td>1.0</td>\n",
       "      <td>3.1</td>\n",
       "    </tr>\n",
       "  </tbody>\n",
       "</table>\n",
       "</div>"
      ],
      "text/plain": [
       "   const  sepal_width\n",
       "0    1.0          3.5\n",
       "1    1.0          3.0\n",
       "2    1.0          3.2\n",
       "3    1.0          3.1\n",
       "4    1.0          3.6\n",
       "5    1.0          3.9\n",
       "6    1.0          3.4\n",
       "7    1.0          3.4\n",
       "8    1.0          2.9\n",
       "9    1.0          3.1"
      ]
     },
     "execution_count": 4,
     "metadata": {},
     "output_type": "execute_result"
    }
   ],
   "source": [
    "# specify predictors X and target Y\n",
    "y = df.sepal_length\n",
    "X = df.sepal_width\n",
    "# most importantly: we have to add a constant term to estimate the intercept\n",
    "X = sm.add_constant(X)\n",
    "X[:10]"
   ]
  },
  {
   "cell_type": "code",
   "execution_count": 5,
   "metadata": {},
   "outputs": [
    {
     "data": {
      "text/html": [
       "<table class=\"simpletable\">\n",
       "<caption>OLS Regression Results</caption>\n",
       "<tr>\n",
       "  <th>Dep. Variable:</th>      <td>sepal_length</td>   <th>  R-squared:         </th> <td>   0.012</td>\n",
       "</tr>\n",
       "<tr>\n",
       "  <th>Model:</th>                   <td>OLS</td>       <th>  Adj. R-squared:    </th> <td>   0.005</td>\n",
       "</tr>\n",
       "<tr>\n",
       "  <th>Method:</th>             <td>Least Squares</td>  <th>  F-statistic:       </th> <td>   1.792</td>\n",
       "</tr>\n",
       "<tr>\n",
       "  <th>Date:</th>             <td>Tue, 16 Nov 2021</td> <th>  Prob (F-statistic):</th>  <td> 0.183</td> \n",
       "</tr>\n",
       "<tr>\n",
       "  <th>Time:</th>                 <td>17:27:09</td>     <th>  Log-Likelihood:    </th> <td> -183.14</td>\n",
       "</tr>\n",
       "<tr>\n",
       "  <th>No. Observations:</th>      <td>   150</td>      <th>  AIC:               </th> <td>   370.3</td>\n",
       "</tr>\n",
       "<tr>\n",
       "  <th>Df Residuals:</th>          <td>   148</td>      <th>  BIC:               </th> <td>   376.3</td>\n",
       "</tr>\n",
       "<tr>\n",
       "  <th>Df Model:</th>              <td>     1</td>      <th>                     </th>     <td> </td>   \n",
       "</tr>\n",
       "<tr>\n",
       "  <th>Covariance Type:</th>      <td>nonrobust</td>    <th>                     </th>     <td> </td>   \n",
       "</tr>\n",
       "</table>\n",
       "<table class=\"simpletable\">\n",
       "<tr>\n",
       "       <td></td>          <th>coef</th>     <th>std err</th>      <th>t</th>      <th>P>|t|</th>  <th>[0.025</th>    <th>0.975]</th>  \n",
       "</tr>\n",
       "<tr>\n",
       "  <th>const</th>       <td>    6.4812</td> <td>    0.481</td> <td>   13.466</td> <td> 0.000</td> <td>    5.530</td> <td>    7.432</td>\n",
       "</tr>\n",
       "<tr>\n",
       "  <th>sepal_width</th> <td>   -0.2089</td> <td>    0.156</td> <td>   -1.339</td> <td> 0.183</td> <td>   -0.517</td> <td>    0.099</td>\n",
       "</tr>\n",
       "</table>\n",
       "<table class=\"simpletable\">\n",
       "<tr>\n",
       "  <th>Omnibus:</th>       <td> 4.455</td> <th>  Durbin-Watson:     </th> <td>   0.941</td>\n",
       "</tr>\n",
       "<tr>\n",
       "  <th>Prob(Omnibus):</th> <td> 0.108</td> <th>  Jarque-Bera (JB):  </th> <td>   4.252</td>\n",
       "</tr>\n",
       "<tr>\n",
       "  <th>Skew:</th>          <td> 0.356</td> <th>  Prob(JB):          </th> <td>   0.119</td>\n",
       "</tr>\n",
       "<tr>\n",
       "  <th>Kurtosis:</th>      <td> 2.585</td> <th>  Cond. No.          </th> <td>    24.3</td>\n",
       "</tr>\n",
       "</table><br/><br/>Notes:<br/>[1] Standard Errors assume that the covariance matrix of the errors is correctly specified."
      ],
      "text/plain": [
       "<class 'statsmodels.iolib.summary.Summary'>\n",
       "\"\"\"\n",
       "                            OLS Regression Results                            \n",
       "==============================================================================\n",
       "Dep. Variable:           sepal_length   R-squared:                       0.012\n",
       "Model:                            OLS   Adj. R-squared:                  0.005\n",
       "Method:                 Least Squares   F-statistic:                     1.792\n",
       "Date:                Tue, 16 Nov 2021   Prob (F-statistic):              0.183\n",
       "Time:                        17:27:09   Log-Likelihood:                -183.14\n",
       "No. Observations:                 150   AIC:                             370.3\n",
       "Df Residuals:                     148   BIC:                             376.3\n",
       "Df Model:                           1                                         \n",
       "Covariance Type:            nonrobust                                         \n",
       "===============================================================================\n",
       "                  coef    std err          t      P>|t|      [0.025      0.975]\n",
       "-------------------------------------------------------------------------------\n",
       "const           6.4812      0.481     13.466      0.000       5.530       7.432\n",
       "sepal_width    -0.2089      0.156     -1.339      0.183      -0.517       0.099\n",
       "==============================================================================\n",
       "Omnibus:                        4.455   Durbin-Watson:                   0.941\n",
       "Prob(Omnibus):                  0.108   Jarque-Bera (JB):                4.252\n",
       "Skew:                           0.356   Prob(JB):                        0.119\n",
       "Kurtosis:                       2.585   Cond. No.                         24.3\n",
       "==============================================================================\n",
       "\n",
       "Notes:\n",
       "[1] Standard Errors assume that the covariance matrix of the errors is correctly specified.\n",
       "\"\"\""
      ]
     },
     "execution_count": 5,
     "metadata": {},
     "output_type": "execute_result"
    }
   ],
   "source": [
    "# initialize model: OLS = ordinary least squares\n",
    "model = sm.OLS(y,X)\n",
    "# fit model: only now the model, i.e. the parameters are computed\n",
    "results = model.fit()\n",
    "\n",
    "# print a summary, i.e., an overview on parameters and diagnostics\n",
    "results.summary()"
   ]
  },
  {
   "cell_type": "code",
   "execution_count": 6,
   "metadata": {
    "scrolled": true
   },
   "outputs": [
    {
     "data": {
      "text/plain": [
       "const          6.481223\n",
       "sepal_width   -0.208870\n",
       "dtype: float64"
      ]
     },
     "execution_count": 6,
     "metadata": {},
     "output_type": "execute_result"
    }
   ],
   "source": [
    "# get parameters of model, i.e. beta_0 and beta_1\n",
    "params = results.params\n",
    "params"
   ]
  },
  {
   "cell_type": "code",
   "execution_count": 8,
   "metadata": {},
   "outputs": [
    {
     "data": {
      "text/plain": [
       "0      5.750177\n",
       "1      5.854612\n",
       "2      5.812838\n",
       "3      5.833725\n",
       "4      5.729290\n",
       "         ...   \n",
       "145    5.854612\n",
       "146    5.959047\n",
       "147    5.854612\n",
       "148    5.771064\n",
       "149    5.854612\n",
       "Length: 150, dtype: float64"
      ]
     },
     "execution_count": 8,
     "metadata": {},
     "output_type": "execute_result"
    }
   ],
   "source": [
    "# we can apply parameters to obtain the predictions of Y based on X\n",
    "np.dot(X,params)\n",
    "# unsurprisingly, statsmodels also provides a direct prediction function:\n",
    "results.predict(X)"
   ]
  },
  {
   "cell_type": "markdown",
   "metadata": {},
   "source": [
    "#### Example 2: Multivariate Regression\n",
    "Now we want to include all other numerical columns from the data to fit to estimate sepal length."
   ]
  },
  {
   "cell_type": "code",
   "execution_count": 9,
   "metadata": {},
   "outputs": [
    {
     "data": {
      "text/html": [
       "<table class=\"simpletable\">\n",
       "<caption>OLS Regression Results</caption>\n",
       "<tr>\n",
       "  <th>Dep. Variable:</th>      <td>sepal_length</td>   <th>  R-squared:         </th> <td>   0.859</td>\n",
       "</tr>\n",
       "<tr>\n",
       "  <th>Model:</th>                   <td>OLS</td>       <th>  Adj. R-squared:    </th> <td>   0.856</td>\n",
       "</tr>\n",
       "<tr>\n",
       "  <th>Method:</th>             <td>Least Squares</td>  <th>  F-statistic:       </th> <td>   297.0</td>\n",
       "</tr>\n",
       "<tr>\n",
       "  <th>Date:</th>             <td>Tue, 16 Nov 2021</td> <th>  Prob (F-statistic):</th> <td>6.28e-62</td>\n",
       "</tr>\n",
       "<tr>\n",
       "  <th>Time:</th>                 <td>17:32:53</td>     <th>  Log-Likelihood:    </th> <td> -37.000</td>\n",
       "</tr>\n",
       "<tr>\n",
       "  <th>No. Observations:</th>      <td>   150</td>      <th>  AIC:               </th> <td>   82.00</td>\n",
       "</tr>\n",
       "<tr>\n",
       "  <th>Df Residuals:</th>          <td>   146</td>      <th>  BIC:               </th> <td>   94.04</td>\n",
       "</tr>\n",
       "<tr>\n",
       "  <th>Df Model:</th>              <td>     3</td>      <th>                     </th>     <td> </td>   \n",
       "</tr>\n",
       "<tr>\n",
       "  <th>Covariance Type:</th>      <td>nonrobust</td>    <th>                     </th>     <td> </td>   \n",
       "</tr>\n",
       "</table>\n",
       "<table class=\"simpletable\">\n",
       "<tr>\n",
       "        <td></td>          <th>coef</th>     <th>std err</th>      <th>t</th>      <th>P>|t|</th>  <th>[0.025</th>    <th>0.975]</th>  \n",
       "</tr>\n",
       "<tr>\n",
       "  <th>Intercept</th>    <td>    1.8451</td> <td>    0.250</td> <td>    7.368</td> <td> 0.000</td> <td>    1.350</td> <td>    2.340</td>\n",
       "</tr>\n",
       "<tr>\n",
       "  <th>sepal_width</th>  <td>    0.6549</td> <td>    0.067</td> <td>    9.823</td> <td> 0.000</td> <td>    0.523</td> <td>    0.787</td>\n",
       "</tr>\n",
       "<tr>\n",
       "  <th>petal_width</th>  <td>   -0.5626</td> <td>    0.127</td> <td>   -4.426</td> <td> 0.000</td> <td>   -0.814</td> <td>   -0.311</td>\n",
       "</tr>\n",
       "<tr>\n",
       "  <th>petal_length</th> <td>    0.7111</td> <td>    0.057</td> <td>   12.560</td> <td> 0.000</td> <td>    0.599</td> <td>    0.823</td>\n",
       "</tr>\n",
       "</table>\n",
       "<table class=\"simpletable\">\n",
       "<tr>\n",
       "  <th>Omnibus:</th>       <td> 0.265</td> <th>  Durbin-Watson:     </th> <td>   2.053</td>\n",
       "</tr>\n",
       "<tr>\n",
       "  <th>Prob(Omnibus):</th> <td> 0.876</td> <th>  Jarque-Bera (JB):  </th> <td>   0.432</td>\n",
       "</tr>\n",
       "<tr>\n",
       "  <th>Skew:</th>          <td> 0.003</td> <th>  Prob(JB):          </th> <td>   0.806</td>\n",
       "</tr>\n",
       "<tr>\n",
       "  <th>Kurtosis:</th>      <td> 2.737</td> <th>  Cond. No.          </th> <td>    54.7</td>\n",
       "</tr>\n",
       "</table><br/><br/>Notes:<br/>[1] Standard Errors assume that the covariance matrix of the errors is correctly specified."
      ],
      "text/plain": [
       "<class 'statsmodels.iolib.summary.Summary'>\n",
       "\"\"\"\n",
       "                            OLS Regression Results                            \n",
       "==============================================================================\n",
       "Dep. Variable:           sepal_length   R-squared:                       0.859\n",
       "Model:                            OLS   Adj. R-squared:                  0.856\n",
       "Method:                 Least Squares   F-statistic:                     297.0\n",
       "Date:                Tue, 16 Nov 2021   Prob (F-statistic):           6.28e-62\n",
       "Time:                        17:32:53   Log-Likelihood:                -37.000\n",
       "No. Observations:                 150   AIC:                             82.00\n",
       "Df Residuals:                     146   BIC:                             94.04\n",
       "Df Model:                           3                                         \n",
       "Covariance Type:            nonrobust                                         \n",
       "================================================================================\n",
       "                   coef    std err          t      P>|t|      [0.025      0.975]\n",
       "--------------------------------------------------------------------------------\n",
       "Intercept        1.8451      0.250      7.368      0.000       1.350       2.340\n",
       "sepal_width      0.6549      0.067      9.823      0.000       0.523       0.787\n",
       "petal_width     -0.5626      0.127     -4.426      0.000      -0.814      -0.311\n",
       "petal_length     0.7111      0.057     12.560      0.000       0.599       0.823\n",
       "==============================================================================\n",
       "Omnibus:                        0.265   Durbin-Watson:                   2.053\n",
       "Prob(Omnibus):                  0.876   Jarque-Bera (JB):                0.432\n",
       "Skew:                           0.003   Prob(JB):                        0.806\n",
       "Kurtosis:                       2.737   Cond. No.                         54.7\n",
       "==============================================================================\n",
       "\n",
       "Notes:\n",
       "[1] Standard Errors assume that the covariance matrix of the errors is correctly specified.\n",
       "\"\"\""
      ]
     },
     "execution_count": 9,
     "metadata": {},
     "output_type": "execute_result"
    }
   ],
   "source": [
    "# statsmodels also provides a formula syntax, which requires an additional import\n",
    "from statsmodels.formula.api import ols\n",
    "\n",
    "# formula syntax: dependent variable ~ predictor1 + predictor2 +.....\n",
    "# note that intercept is fit automatically\n",
    "model = ols(\"sepal_length ~ sepal_width + petal_width + petal_length\", data=df)\n",
    "\n",
    "results = model.fit()\n",
    "results.summary()"
   ]
  },
  {
   "cell_type": "code",
   "execution_count": 10,
   "metadata": {},
   "outputs": [
    {
     "data": {
      "text/html": [
       "<table class=\"simpletable\">\n",
       "<caption>OLS Regression Results</caption>\n",
       "<tr>\n",
       "  <th>Dep. Variable:</th>      <td>sepal_length</td>   <th>  R-squared:         </th> <td>   0.866</td>\n",
       "</tr>\n",
       "<tr>\n",
       "  <th>Model:</th>                   <td>OLS</td>       <th>  Adj. R-squared:    </th> <td>   0.862</td>\n",
       "</tr>\n",
       "<tr>\n",
       "  <th>Method:</th>             <td>Least Squares</td>  <th>  F-statistic:       </th> <td>   186.9</td>\n",
       "</tr>\n",
       "<tr>\n",
       "  <th>Date:</th>             <td>Tue, 16 Nov 2021</td> <th>  Prob (F-statistic):</th> <td>4.20e-61</td>\n",
       "</tr>\n",
       "<tr>\n",
       "  <th>Time:</th>                 <td>17:34:06</td>     <th>  Log-Likelihood:    </th> <td> -33.031</td>\n",
       "</tr>\n",
       "<tr>\n",
       "  <th>No. Observations:</th>      <td>   150</td>      <th>  AIC:               </th> <td>   78.06</td>\n",
       "</tr>\n",
       "<tr>\n",
       "  <th>Df Residuals:</th>          <td>   144</td>      <th>  BIC:               </th> <td>   96.13</td>\n",
       "</tr>\n",
       "<tr>\n",
       "  <th>Df Model:</th>              <td>     5</td>      <th>                     </th>     <td> </td>   \n",
       "</tr>\n",
       "<tr>\n",
       "  <th>Covariance Type:</th>      <td>nonrobust</td>    <th>                     </th>     <td> </td>   \n",
       "</tr>\n",
       "</table>\n",
       "<table class=\"simpletable\">\n",
       "<tr>\n",
       "             <td></td>                <th>coef</th>     <th>std err</th>      <th>t</th>      <th>P>|t|</th>  <th>[0.025</th>    <th>0.975]</th>  \n",
       "</tr>\n",
       "<tr>\n",
       "  <th>Intercept</th>               <td>    2.0983</td> <td>    0.476</td> <td>    4.408</td> <td> 0.000</td> <td>    1.157</td> <td>    3.039</td>\n",
       "</tr>\n",
       "<tr>\n",
       "  <th>sepal_width:petal_width</th> <td>   -0.1255</td> <td>    0.100</td> <td>   -1.250</td> <td> 0.213</td> <td>   -0.324</td> <td>    0.073</td>\n",
       "</tr>\n",
       "<tr>\n",
       "  <th>np.square(petal_length)</th> <td>    0.0333</td> <td>    0.013</td> <td>    2.571</td> <td> 0.011</td> <td>    0.008</td> <td>    0.059</td>\n",
       "</tr>\n",
       "<tr>\n",
       "  <th>sepal_width</th>             <td>    0.6790</td> <td>    0.123</td> <td>    5.541</td> <td> 0.000</td> <td>    0.437</td> <td>    0.921</td>\n",
       "</tr>\n",
       "<tr>\n",
       "  <th>petal_width</th>             <td>   -0.1154</td> <td>    0.344</td> <td>   -0.335</td> <td> 0.738</td> <td>   -0.796</td> <td>    0.565</td>\n",
       "</tr>\n",
       "<tr>\n",
       "  <th>petal_length</th>            <td>    0.4470</td> <td>    0.117</td> <td>    3.821</td> <td> 0.000</td> <td>    0.216</td> <td>    0.678</td>\n",
       "</tr>\n",
       "</table>\n",
       "<table class=\"simpletable\">\n",
       "<tr>\n",
       "  <th>Omnibus:</th>       <td> 0.119</td> <th>  Durbin-Watson:     </th> <td>   1.996</td>\n",
       "</tr>\n",
       "<tr>\n",
       "  <th>Prob(Omnibus):</th> <td> 0.942</td> <th>  Jarque-Bera (JB):  </th> <td>   0.276</td>\n",
       "</tr>\n",
       "<tr>\n",
       "  <th>Skew:</th>          <td> 0.021</td> <th>  Prob(JB):          </th> <td>   0.871</td>\n",
       "</tr>\n",
       "<tr>\n",
       "  <th>Kurtosis:</th>      <td> 2.794</td> <th>  Cond. No.          </th> <td>    483.</td>\n",
       "</tr>\n",
       "</table><br/><br/>Notes:<br/>[1] Standard Errors assume that the covariance matrix of the errors is correctly specified."
      ],
      "text/plain": [
       "<class 'statsmodels.iolib.summary.Summary'>\n",
       "\"\"\"\n",
       "                            OLS Regression Results                            \n",
       "==============================================================================\n",
       "Dep. Variable:           sepal_length   R-squared:                       0.866\n",
       "Model:                            OLS   Adj. R-squared:                  0.862\n",
       "Method:                 Least Squares   F-statistic:                     186.9\n",
       "Date:                Tue, 16 Nov 2021   Prob (F-statistic):           4.20e-61\n",
       "Time:                        17:34:06   Log-Likelihood:                -33.031\n",
       "No. Observations:                 150   AIC:                             78.06\n",
       "Df Residuals:                     144   BIC:                             96.13\n",
       "Df Model:                           5                                         \n",
       "Covariance Type:            nonrobust                                         \n",
       "===========================================================================================\n",
       "                              coef    std err          t      P>|t|      [0.025      0.975]\n",
       "-------------------------------------------------------------------------------------------\n",
       "Intercept                   2.0983      0.476      4.408      0.000       1.157       3.039\n",
       "sepal_width:petal_width    -0.1255      0.100     -1.250      0.213      -0.324       0.073\n",
       "np.square(petal_length)     0.0333      0.013      2.571      0.011       0.008       0.059\n",
       "sepal_width                 0.6790      0.123      5.541      0.000       0.437       0.921\n",
       "petal_width                -0.1154      0.344     -0.335      0.738      -0.796       0.565\n",
       "petal_length                0.4470      0.117      3.821      0.000       0.216       0.678\n",
       "==============================================================================\n",
       "Omnibus:                        0.119   Durbin-Watson:                   1.996\n",
       "Prob(Omnibus):                  0.942   Jarque-Bera (JB):                0.276\n",
       "Skew:                           0.021   Prob(JB):                        0.871\n",
       "Kurtosis:                       2.794   Cond. No.                         483.\n",
       "==============================================================================\n",
       "\n",
       "Notes:\n",
       "[1] Standard Errors assume that the covariance matrix of the errors is correctly specified.\n",
       "\"\"\""
      ]
     },
     "execution_count": 10,
     "metadata": {},
     "output_type": "execute_result"
    }
   ],
   "source": [
    "# formula syntax: dependent variable ~ predictor1 + predictor2 +.....\n",
    "# note that intercept is fit automatically\n",
    "\n",
    "# add interaction and squared term\n",
    "model = ols(\"sepal_length ~ sepal_width:petal_width + np.square(petal_length) + sepal_width + petal_width + petal_length\", data=df)\n",
    "\n",
    "results = model.fit()\n",
    "results.summary()"
   ]
  },
  {
   "cell_type": "markdown",
   "metadata": {},
   "source": [
    "### Task 1: Fitting an Artificial Dataset\n",
    "\n",
    "We want to implement OLS regression and test it on artificial data. Thus, in this task you may not yet use the `statsmodels` functions (except for checking results)."
   ]
  },
  {
   "cell_type": "markdown",
   "metadata": {},
   "source": [
    "#### a) Creating artificial data\n",
    "Create an artificial dataset which consists of:\n",
    "* a vector $x$ consisting of 100 (float) values between 0 and 1\n",
    "* a vector $y = 10x +\\varepsilon$, in which for each element, the error $\\varepsilon_i$ is drawn from the standard normal distribution.\n",
    "Create a scatterplot of $x$ against $y$!"
   ]
  },
  {
   "cell_type": "code",
   "execution_count": 11,
   "metadata": {},
   "outputs": [],
   "source": [
    "# draw 100 values from uniform distribution\n",
    "X = np.random.uniform(0,1,100)\n",
    "\n",
    "# create vector of 100 error values drawn from standard normal distribution\n",
    "eps = np.random.normal(0,1,100)\n",
    "\n",
    "# target vector\n",
    "y = 10*X + eps"
   ]
  },
  {
   "cell_type": "code",
   "execution_count": 12,
   "metadata": {},
   "outputs": [
    {
     "data": {
      "image/png": "[encoded data removed]",
      "text/plain": [
       "<Figure size 432x288 with 1 Axes>"
      ]
     },
     "metadata": {
      "needs_background": "light"
     },
     "output_type": "display_data"
    }
   ],
   "source": [
    "from matplotlib import pyplot as plt\n",
    "\n",
    "#plot values, underlying model should be visible\n",
    "plt.scatter(X, y, color = \"blue\", s=1)\n",
    "plt.show()"
   ]
  },
  {
   "cell_type": "markdown",
   "metadata": {},
   "source": [
    "#### b) Implementing OLS regression\n",
    "Write a function that takes as input a numpy vector of target values $y$, and a matrix of predictors $X$, and returns the parameter vector $\\beta$ resulting from OLS regression. Apply this function to fit a model on your artificial data, compute the predictions, and add the resulting regression line to the plot from a). Remember to add a constant term!"
   ]
  },
  {
   "cell_type": "code",
   "execution_count": 13,
   "metadata": {},
   "outputs": [
    {
     "name": "stdout",
     "output_type": "stream",
     "text": [
      "[-0.09717799 10.12266798]\n"
     ]
    }
   ],
   "source": [
    "def lm_fit(y,X):\n",
    "    A = np.linalg.inv(np.dot(X.T,X))\n",
    "    C = np.dot(X.T,y)\n",
    "    return np.dot(A,C)\n",
    "\n",
    "# non-statsmodels way to add constant column\n",
    "Xc = np.vstack([np.ones(len(X)),X]).T\n",
    "beta = lm_fit(y,Xc)\n",
    "print(beta) # betas are slightly off to what would be expected, this is due to variance in errors being relatively big"
   ]
  },
  {
   "cell_type": "code",
   "execution_count": 14,
   "metadata": {},
   "outputs": [
    {
     "data": {
      "image/png": "[encoded data removed]",
      "text/plain": [
       "<Figure size 432x288 with 1 Axes>"
      ]
     },
     "metadata": {
      "needs_background": "light"
     },
     "output_type": "display_data"
    }
   ],
   "source": [
    "plt.scatter(X,y, s = 0.5)\n",
    "\n",
    "# plot regression line\n",
    "xl = [0,1]\n",
    "yl = [beta[0], beta[0] + beta[1]]\n",
    "plt.plot(xl,yl, color = \"red\")\n",
    "\n",
    "# plot observations\n",
    "plt.scatter(X, y, color = \"blue\", s=1)\n",
    "plt.xlim(0,1)\n",
    "plt.show()"
   ]
  },
  {
   "cell_type": "markdown",
   "metadata": {},
   "source": [
    "#### c) Diagnostics 1: The Bootstrap\n",
    "\n",
    "Based on your regression function, write a function that again takes as input a predictor matrix $X$ and a target column $y$, plus a integer $N$, and bootstraps the data $N$ times to compute the 95% confidence interval for each parameter. Specifically, return one parameter vector for the bottom beta values, and one parameter vector for the top values. \n",
    "Apply this function to estimate the confidence intervals on our artificial data."
   ]
  },
  {
   "cell_type": "code",
   "execution_count": 15,
   "metadata": {},
   "outputs": [
    {
     "name": "stdout",
     "output_type": "stream",
     "text": [
      "(array([-0.09717799, 10.12266798]), array([-0.47331565,  9.42657381]), array([ 0.26177111, 10.81261191]))\n"
     ]
    }
   ],
   "source": [
    "def lm_ci(y, X, N):\n",
    "    m = X.shape[1]\n",
    "    \n",
    "    # parameter matrix, each row is the parameter vector of one model\n",
    "    beta_all = np.zeros((N,m))\n",
    "    n = len(y)\n",
    "    \n",
    "    #bootstrap: fit N models and save their parameters\n",
    "    for i in range(N):\n",
    "        ind = np.random.choice(np.arange(n),n)\n",
    "        Xs = X[ind]\n",
    "        ys = y[ind]\n",
    "        beta_all[i] = lm_fit(ys,Xs)\n",
    "        \n",
    "    # most important fo CIs: sort al columns    \n",
    "    for j in range(m):\n",
    "        beta_all[:,j] = np.sort(beta_all[:,j])\n",
    "    \n",
    "    # get confidence intervals\n",
    "    ci_low, ci_high = int(0.025*N-1), int(0.975*N-1) \n",
    "    \n",
    "    # fit actual model\n",
    "    beta = lm_fit(y,X)\n",
    "        \n",
    "    return (beta, beta_all[ci_low], beta_all[ci_high])\n",
    "\n",
    "ci = lm_ci(y, Xc, 10000)\n",
    "print(ci) # \"true\" beta = [0,10] in confidence interval"
   ]
  },
  {
   "cell_type": "markdown",
   "metadata": {},
   "source": [
    "#### d) Diagnostics 2: The $R^2$ score.\n",
    "\n",
    "Write a function that takes as input a ground truth vector y, its prediction y_hat, and computes the $R^2$ value of that prediction! Does your model explain most of the variance in the artificial data?"
   ]
  },
  {
   "cell_type": "code",
   "execution_count": 16,
   "metadata": {},
   "outputs": [
    {
     "name": "stdout",
     "output_type": "stream",
     "text": [
      "0.8989651153269851\n"
     ]
    }
   ],
   "source": [
    "def R_sq(y,y_hat):\n",
    "    rss = np.sum((y-y_hat)**2)\n",
    "    mu = np.mean(y)\n",
    "    tss = np.sum((y-mu)**2)\n",
    "    return 1 - rss/tss\n",
    "\n",
    "print(R_sq(y, Xc.dot(beta)))"
   ]
  },
  {
   "cell_type": "markdown",
   "metadata": {},
   "source": [
    "__Answer:__  Most variance gets explained, so even if the variance was relatively large, we could model it very well"
   ]
  },
  {
   "cell_type": "markdown",
   "metadata": {},
   "source": [
    "### Task 2: Predicting Student Performance\n",
    "\n",
    "We revisit the student performance dataset from last week's exercise and aim to estimate the exam performance in math. In this task you may use statsmodels!"
   ]
  },
  {
   "cell_type": "markdown",
   "metadata": {},
   "source": [
    "#### a) Data Preprocessing\n",
    "\n",
    "Load the student performance data into a dataframe. Since we want to estimate students performance in math, separate this column from the dataframe. On the remaining columns, transform, i.e. dummy-code all categorical columns as explained in lecture. Further, check for collinearities. If a pair of highly correlated columns (i.e. pearson correlation > 0.9) is given, remove one of these columns from the predictors. Remember to add a constant term afterwards."
   ]
  },
  {
   "cell_type": "code",
   "execution_count": 17,
   "metadata": {},
   "outputs": [
    {
     "data": {
      "text/html": [
       "<div>\n",
       "<style scoped>\n",
       "    .dataframe tbody tr th:only-of-type {\n",
       "        vertical-align: middle;\n",
       "    }\n",
       "\n",
       "    .dataframe tbody tr th {\n",
       "        vertical-align: top;\n",
       "    }\n",
       "\n",
       "    .dataframe thead th {\n",
       "        text-align: right;\n",
       "    }\n",
       "</style>\n",
       "<table border=\"1\" class=\"dataframe\">\n",
       "  <thead>\n",
       "    <tr style=\"text-align: right;\">\n",
       "      <th></th>\n",
       "      <th>gender</th>\n",
       "      <th>race/ethnicity</th>\n",
       "      <th>parental level of education</th>\n",
       "      <th>lunch</th>\n",
       "      <th>test preparation course</th>\n",
       "      <th>math score</th>\n",
       "      <th>reading score</th>\n",
       "      <th>writing score</th>\n",
       "    </tr>\n",
       "  </thead>\n",
       "  <tbody>\n",
       "    <tr>\n",
       "      <th>0</th>\n",
       "      <td>female</td>\n",
       "      <td>group B</td>\n",
       "      <td>bachelor's degree</td>\n",
       "      <td>standard</td>\n",
       "      <td>none</td>\n",
       "      <td>72</td>\n",
       "      <td>72</td>\n",
       "      <td>74</td>\n",
       "    </tr>\n",
       "    <tr>\n",
       "      <th>1</th>\n",
       "      <td>female</td>\n",
       "      <td>group C</td>\n",
       "      <td>some college</td>\n",
       "      <td>standard</td>\n",
       "      <td>completed</td>\n",
       "      <td>69</td>\n",
       "      <td>90</td>\n",
       "      <td>88</td>\n",
       "    </tr>\n",
       "    <tr>\n",
       "      <th>2</th>\n",
       "      <td>female</td>\n",
       "      <td>group B</td>\n",
       "      <td>master's degree</td>\n",
       "      <td>standard</td>\n",
       "      <td>none</td>\n",
       "      <td>90</td>\n",
       "      <td>95</td>\n",
       "      <td>93</td>\n",
       "    </tr>\n",
       "    <tr>\n",
       "      <th>3</th>\n",
       "      <td>male</td>\n",
       "      <td>group A</td>\n",
       "      <td>associate's degree</td>\n",
       "      <td>free/reduced</td>\n",
       "      <td>none</td>\n",
       "      <td>47</td>\n",
       "      <td>57</td>\n",
       "      <td>44</td>\n",
       "    </tr>\n",
       "    <tr>\n",
       "      <th>4</th>\n",
       "      <td>male</td>\n",
       "      <td>group C</td>\n",
       "      <td>some college</td>\n",
       "      <td>standard</td>\n",
       "      <td>none</td>\n",
       "      <td>76</td>\n",
       "      <td>78</td>\n",
       "      <td>75</td>\n",
       "    </tr>\n",
       "  </tbody>\n",
       "</table>\n",
       "</div>"
      ],
      "text/plain": [
       "   gender race/ethnicity parental level of education         lunch  \\\n",
       "0  female        group B           bachelor's degree      standard   \n",
       "1  female        group C                some college      standard   \n",
       "2  female        group B             master's degree      standard   \n",
       "3    male        group A          associate's degree  free/reduced   \n",
       "4    male        group C                some college      standard   \n",
       "\n",
       "  test preparation course  math score  reading score  writing score  \n",
       "0                    none          72             72             74  \n",
       "1               completed          69             90             88  \n",
       "2                    none          90             95             93  \n",
       "3                    none          47             57             44  \n",
       "4                    none          76             78             75  "
      ]
     },
     "execution_count": 17,
     "metadata": {},
     "output_type": "execute_result"
    }
   ],
   "source": [
    "df = pd.read_csv(\"StudentsPerformance.csv\")\n",
    "\n",
    "df.head()"
   ]
  },
  {
   "cell_type": "code",
   "execution_count": 18,
   "metadata": {},
   "outputs": [
    {
     "data": {
      "text/html": [
       "<div>\n",
       "<style scoped>\n",
       "    .dataframe tbody tr th:only-of-type {\n",
       "        vertical-align: middle;\n",
       "    }\n",
       "\n",
       "    .dataframe tbody tr th {\n",
       "        vertical-align: top;\n",
       "    }\n",
       "\n",
       "    .dataframe thead th {\n",
       "        text-align: right;\n",
       "    }\n",
       "</style>\n",
       "<table border=\"1\" class=\"dataframe\">\n",
       "  <thead>\n",
       "    <tr style=\"text-align: right;\">\n",
       "      <th></th>\n",
       "      <th>math score</th>\n",
       "      <th>reading score</th>\n",
       "      <th>writing score</th>\n",
       "      <th>gender_male</th>\n",
       "      <th>race/ethnicity_group B</th>\n",
       "      <th>race/ethnicity_group C</th>\n",
       "      <th>race/ethnicity_group D</th>\n",
       "      <th>race/ethnicity_group E</th>\n",
       "      <th>parental level of education_bachelor's degree</th>\n",
       "      <th>parental level of education_high school</th>\n",
       "      <th>parental level of education_master's degree</th>\n",
       "      <th>parental level of education_some college</th>\n",
       "      <th>parental level of education_some high school</th>\n",
       "      <th>lunch_standard</th>\n",
       "      <th>test preparation course_none</th>\n",
       "    </tr>\n",
       "  </thead>\n",
       "  <tbody>\n",
       "    <tr>\n",
       "      <th>0</th>\n",
       "      <td>72</td>\n",
       "      <td>72</td>\n",
       "      <td>74</td>\n",
       "      <td>0</td>\n",
       "      <td>1</td>\n",
       "      <td>0</td>\n",
       "      <td>0</td>\n",
       "      <td>0</td>\n",
       "      <td>1</td>\n",
       "      <td>0</td>\n",
       "      <td>0</td>\n",
       "      <td>0</td>\n",
       "      <td>0</td>\n",
       "      <td>1</td>\n",
       "      <td>1</td>\n",
       "    </tr>\n",
       "    <tr>\n",
       "      <th>1</th>\n",
       "      <td>69</td>\n",
       "      <td>90</td>\n",
       "      <td>88</td>\n",
       "      <td>0</td>\n",
       "      <td>0</td>\n",
       "      <td>1</td>\n",
       "      <td>0</td>\n",
       "      <td>0</td>\n",
       "      <td>0</td>\n",
       "      <td>0</td>\n",
       "      <td>0</td>\n",
       "      <td>1</td>\n",
       "      <td>0</td>\n",
       "      <td>1</td>\n",
       "      <td>0</td>\n",
       "    </tr>\n",
       "    <tr>\n",
       "      <th>2</th>\n",
       "      <td>90</td>\n",
       "      <td>95</td>\n",
       "      <td>93</td>\n",
       "      <td>0</td>\n",
       "      <td>1</td>\n",
       "      <td>0</td>\n",
       "      <td>0</td>\n",
       "      <td>0</td>\n",
       "      <td>0</td>\n",
       "      <td>0</td>\n",
       "      <td>1</td>\n",
       "      <td>0</td>\n",
       "      <td>0</td>\n",
       "      <td>1</td>\n",
       "      <td>1</td>\n",
       "    </tr>\n",
       "    <tr>\n",
       "      <th>3</th>\n",
       "      <td>47</td>\n",
       "      <td>57</td>\n",
       "      <td>44</td>\n",
       "      <td>1</td>\n",
       "      <td>0</td>\n",
       "      <td>0</td>\n",
       "      <td>0</td>\n",
       "      <td>0</td>\n",
       "      <td>0</td>\n",
       "      <td>0</td>\n",
       "      <td>0</td>\n",
       "      <td>0</td>\n",
       "      <td>0</td>\n",
       "      <td>0</td>\n",
       "      <td>1</td>\n",
       "    </tr>\n",
       "    <tr>\n",
       "      <th>4</th>\n",
       "      <td>76</td>\n",
       "      <td>78</td>\n",
       "      <td>75</td>\n",
       "      <td>1</td>\n",
       "      <td>0</td>\n",
       "      <td>1</td>\n",
       "      <td>0</td>\n",
       "      <td>0</td>\n",
       "      <td>0</td>\n",
       "      <td>0</td>\n",
       "      <td>0</td>\n",
       "      <td>1</td>\n",
       "      <td>0</td>\n",
       "      <td>1</td>\n",
       "      <td>1</td>\n",
       "    </tr>\n",
       "  </tbody>\n",
       "</table>\n",
       "</div>"
      ],
      "text/plain": [
       "   math score  reading score  writing score  gender_male  \\\n",
       "0          72             72             74            0   \n",
       "1          69             90             88            0   \n",
       "2          90             95             93            0   \n",
       "3          47             57             44            1   \n",
       "4          76             78             75            1   \n",
       "\n",
       "   race/ethnicity_group B  race/ethnicity_group C  race/ethnicity_group D  \\\n",
       "0                       1                       0                       0   \n",
       "1                       0                       1                       0   \n",
       "2                       1                       0                       0   \n",
       "3                       0                       0                       0   \n",
       "4                       0                       1                       0   \n",
       "\n",
       "   race/ethnicity_group E  parental level of education_bachelor's degree  \\\n",
       "0                       0                                              1   \n",
       "1                       0                                              0   \n",
       "2                       0                                              0   \n",
       "3                       0                                              0   \n",
       "4                       0                                              0   \n",
       "\n",
       "   parental level of education_high school  \\\n",
       "0                                        0   \n",
       "1                                        0   \n",
       "2                                        0   \n",
       "3                                        0   \n",
       "4                                        0   \n",
       "\n",
       "   parental level of education_master's degree  \\\n",
       "0                                            0   \n",
       "1                                            0   \n",
       "2                                            1   \n",
       "3                                            0   \n",
       "4                                            0   \n",
       "\n",
       "   parental level of education_some college  \\\n",
       "0                                         0   \n",
       "1                                         1   \n",
       "2                                         0   \n",
       "3                                         0   \n",
       "4                                         1   \n",
       "\n",
       "   parental level of education_some high school  lunch_standard  \\\n",
       "0                                             0               1   \n",
       "1                                             0               1   \n",
       "2                                             0               1   \n",
       "3                                             0               0   \n",
       "4                                             0               1   \n",
       "\n",
       "   test preparation course_none  \n",
       "0                             1  \n",
       "1                             0  \n",
       "2                             1  \n",
       "3                             1  \n",
       "4                             1  "
      ]
     },
     "execution_count": 18,
     "metadata": {},
     "output_type": "execute_result"
    }
   ],
   "source": [
    "# transform categorical values to 0-1 representations, drop first category to avoid collinearities\n",
    "df = pd.get_dummies(df, drop_first = True)\n",
    "df.head()"
   ]
  },
  {
   "cell_type": "code",
   "execution_count": 20,
   "metadata": {},
   "outputs": [
    {
     "name": "stdout",
     "output_type": "stream",
     "text": [
      "(array([ 0,  0,  1,  1,  2,  3,  4,  5,  6,  7,  8,  9, 10, 11, 12, 13],\n",
      "      dtype=int64), array([ 0,  1,  0,  1,  2,  3,  4,  5,  6,  7,  8,  9, 10, 11, 12, 13],\n",
      "      dtype=int64))\n"
     ]
    }
   ],
   "source": [
    "print(np.where(df.iloc[:,1:].corr() > 0.9)) # writing and reading are highly correlated!\n",
    "\n",
    "# omit column 0 (target variable), and column 1 (reading score) in X\n",
    "X = sm.add_constant(df.iloc[:,2:])"
   ]
  },
  {
   "cell_type": "markdown",
   "metadata": {},
   "source": [
    "#### b) Learning a Simple Regression Model\n",
    "\n",
    "Apply statsmodels to estimate the exam performance in math from all other columns, without any column interactions. Remember to use a constant term, and properly transform categorical variables. Which significant effects do you observe?"
   ]
  },
  {
   "cell_type": "code",
   "execution_count": 21,
   "metadata": {},
   "outputs": [
    {
     "data": {
      "text/html": [
       "<table class=\"simpletable\">\n",
       "<caption>OLS Regression Results</caption>\n",
       "<tr>\n",
       "  <th>Dep. Variable:</th>       <td>math score</td>    <th>  R-squared:         </th> <td>   0.872</td>\n",
       "</tr>\n",
       "<tr>\n",
       "  <th>Model:</th>                   <td>OLS</td>       <th>  Adj. R-squared:    </th> <td>   0.870</td>\n",
       "</tr>\n",
       "<tr>\n",
       "  <th>Method:</th>             <td>Least Squares</td>  <th>  F-statistic:       </th> <td>   515.7</td>\n",
       "</tr>\n",
       "<tr>\n",
       "  <th>Date:</th>             <td>Tue, 16 Nov 2021</td> <th>  Prob (F-statistic):</th>  <td>  0.00</td> \n",
       "</tr>\n",
       "<tr>\n",
       "  <th>Time:</th>                 <td>17:55:27</td>     <th>  Log-Likelihood:    </th> <td> -3110.3</td>\n",
       "</tr>\n",
       "<tr>\n",
       "  <th>No. Observations:</th>      <td>  1000</td>      <th>  AIC:               </th> <td>   6249.</td>\n",
       "</tr>\n",
       "<tr>\n",
       "  <th>Df Residuals:</th>          <td>   986</td>      <th>  BIC:               </th> <td>   6317.</td>\n",
       "</tr>\n",
       "<tr>\n",
       "  <th>Df Model:</th>              <td>    13</td>      <th>                     </th>     <td> </td>   \n",
       "</tr>\n",
       "<tr>\n",
       "  <th>Covariance Type:</th>      <td>nonrobust</td>    <th>                     </th>     <td> </td>   \n",
       "</tr>\n",
       "</table>\n",
       "<table class=\"simpletable\">\n",
       "<tr>\n",
       "                        <td></td>                           <th>coef</th>     <th>std err</th>      <th>t</th>      <th>P>|t|</th>  <th>[0.025</th>    <th>0.975]</th>  \n",
       "</tr>\n",
       "<tr>\n",
       "  <th>const</th>                                         <td>  -11.4401</td> <td>    1.268</td> <td>   -9.019</td> <td> 0.000</td> <td>  -13.929</td> <td>   -8.951</td>\n",
       "</tr>\n",
       "<tr>\n",
       "  <th>writing score</th>                                 <td>    0.9605</td> <td>    0.014</td> <td>   68.886</td> <td> 0.000</td> <td>    0.933</td> <td>    0.988</td>\n",
       "</tr>\n",
       "<tr>\n",
       "  <th>gender_male</th>                                   <td>   13.7321</td> <td>    0.371</td> <td>   37.059</td> <td> 0.000</td> <td>   13.005</td> <td>   14.459</td>\n",
       "</tr>\n",
       "<tr>\n",
       "  <th>race/ethnicity_group B</th>                        <td>    0.8689</td> <td>    0.706</td> <td>    1.231</td> <td> 0.218</td> <td>   -0.516</td> <td>    2.254</td>\n",
       "</tr>\n",
       "<tr>\n",
       "  <th>race/ethnicity_group C</th>                        <td>    0.1528</td> <td>    0.661</td> <td>    0.231</td> <td> 0.817</td> <td>   -1.145</td> <td>    1.451</td>\n",
       "</tr>\n",
       "<tr>\n",
       "  <th>race/ethnicity_group D</th>                        <td>   -0.3552</td> <td>    0.679</td> <td>   -0.523</td> <td> 0.601</td> <td>   -1.688</td> <td>    0.977</td>\n",
       "</tr>\n",
       "<tr>\n",
       "  <th>race/ethnicity_group E</th>                        <td>    5.2006</td> <td>    0.751</td> <td>    6.924</td> <td> 0.000</td> <td>    3.727</td> <td>    6.674</td>\n",
       "</tr>\n",
       "<tr>\n",
       "  <th>parental level of education_bachelor's degree</th> <td>   -1.3810</td> <td>    0.625</td> <td>   -2.209</td> <td> 0.027</td> <td>   -2.608</td> <td>   -0.154</td>\n",
       "</tr>\n",
       "<tr>\n",
       "  <th>parental level of education_high school</th>       <td>    0.7817</td> <td>    0.544</td> <td>    1.436</td> <td> 0.151</td> <td>   -0.287</td> <td>    1.850</td>\n",
       "</tr>\n",
       "<tr>\n",
       "  <th>parental level of education_master's degree</th>   <td>   -2.0899</td> <td>    0.808</td> <td>   -2.588</td> <td> 0.010</td> <td>   -3.675</td> <td>   -0.505</td>\n",
       "</tr>\n",
       "<tr>\n",
       "  <th>parental level of education_some college</th>      <td>    0.3014</td> <td>    0.518</td> <td>    0.582</td> <td> 0.561</td> <td>   -0.714</td> <td>    1.317</td>\n",
       "</tr>\n",
       "<tr>\n",
       "  <th>parental level of education_some high school</th>  <td>    0.8631</td> <td>    0.558</td> <td>    1.546</td> <td> 0.122</td> <td>   -0.232</td> <td>    1.958</td>\n",
       "</tr>\n",
       "<tr>\n",
       "  <th>lunch_standard</th>                                <td>    2.9984</td> <td>    0.380</td> <td>    7.895</td> <td> 0.000</td> <td>    2.253</td> <td>    3.744</td>\n",
       "</tr>\n",
       "<tr>\n",
       "  <th>test preparation course_none</th>                  <td>    4.1663</td> <td>    0.390</td> <td>   10.697</td> <td> 0.000</td> <td>    3.402</td> <td>    4.931</td>\n",
       "</tr>\n",
       "</table>\n",
       "<table class=\"simpletable\">\n",
       "<tr>\n",
       "  <th>Omnibus:</th>       <td> 1.054</td> <th>  Durbin-Watson:     </th> <td>   1.973</td>\n",
       "</tr>\n",
       "<tr>\n",
       "  <th>Prob(Omnibus):</th> <td> 0.590</td> <th>  Jarque-Bera (JB):  </th> <td>   1.112</td>\n",
       "</tr>\n",
       "<tr>\n",
       "  <th>Skew:</th>          <td>-0.039</td> <th>  Prob(JB):          </th> <td>   0.574</td>\n",
       "</tr>\n",
       "<tr>\n",
       "  <th>Kurtosis:</th>      <td> 2.857</td> <th>  Cond. No.          </th> <td>    608.</td>\n",
       "</tr>\n",
       "</table><br/><br/>Notes:<br/>[1] Standard Errors assume that the covariance matrix of the errors is correctly specified."
      ],
      "text/plain": [
       "<class 'statsmodels.iolib.summary.Summary'>\n",
       "\"\"\"\n",
       "                            OLS Regression Results                            \n",
       "==============================================================================\n",
       "Dep. Variable:             math score   R-squared:                       0.872\n",
       "Model:                            OLS   Adj. R-squared:                  0.870\n",
       "Method:                 Least Squares   F-statistic:                     515.7\n",
       "Date:                Tue, 16 Nov 2021   Prob (F-statistic):               0.00\n",
       "Time:                        17:55:27   Log-Likelihood:                -3110.3\n",
       "No. Observations:                1000   AIC:                             6249.\n",
       "Df Residuals:                     986   BIC:                             6317.\n",
       "Df Model:                          13                                         \n",
       "Covariance Type:            nonrobust                                         \n",
       "=================================================================================================================\n",
       "                                                    coef    std err          t      P>|t|      [0.025      0.975]\n",
       "-----------------------------------------------------------------------------------------------------------------\n",
       "const                                           -11.4401      1.268     -9.019      0.000     -13.929      -8.951\n",
       "writing score                                     0.9605      0.014     68.886      0.000       0.933       0.988\n",
       "gender_male                                      13.7321      0.371     37.059      0.000      13.005      14.459\n",
       "race/ethnicity_group B                            0.8689      0.706      1.231      0.218      -0.516       2.254\n",
       "race/ethnicity_group C                            0.1528      0.661      0.231      0.817      -1.145       1.451\n",
       "race/ethnicity_group D                           -0.3552      0.679     -0.523      0.601      -1.688       0.977\n",
       "race/ethnicity_group E                            5.2006      0.751      6.924      0.000       3.727       6.674\n",
       "parental level of education_bachelor's degree    -1.3810      0.625     -2.209      0.027      -2.608      -0.154\n",
       "parental level of education_high school           0.7817      0.544      1.436      0.151      -0.287       1.850\n",
       "parental level of education_master's degree      -2.0899      0.808     -2.588      0.010      -3.675      -0.505\n",
       "parental level of education_some college          0.3014      0.518      0.582      0.561      -0.714       1.317\n",
       "parental level of education_some high school      0.8631      0.558      1.546      0.122      -0.232       1.958\n",
       "lunch_standard                                    2.9984      0.380      7.895      0.000       2.253       3.744\n",
       "test preparation course_none                      4.1663      0.390     10.697      0.000       3.402       4.931\n",
       "==============================================================================\n",
       "Omnibus:                        1.054   Durbin-Watson:                   1.973\n",
       "Prob(Omnibus):                  0.590   Jarque-Bera (JB):                1.112\n",
       "Skew:                          -0.039   Prob(JB):                        0.574\n",
       "Kurtosis:                       2.857   Cond. No.                         608.\n",
       "==============================================================================\n",
       "\n",
       "Notes:\n",
       "[1] Standard Errors assume that the covariance matrix of the errors is correctly specified.\n",
       "\"\"\""
      ]
     },
     "execution_count": 21,
     "metadata": {},
     "output_type": "execute_result"
    }
   ],
   "source": [
    "y = df.iloc[:,0]\n",
    "\n",
    "# initialize and fit OLS model\n",
    "model1 = sm.OLS(y,X)\n",
    "results1 = model1.fit()\n",
    "\n",
    "# print summary, i.e. an overview on parameters and diagnostics\n",
    "results1.summary()"
   ]
  },
  {
   "cell_type": "markdown",
   "metadata": {},
   "source": [
    "#### c) Adding interactions\n",
    "Apply statsmodels to fit a regression model that in addition to the previous model further considers an interaction term between the test preparation course and each of the continuous columns that are left from the preprocessing. Thus, first add these columns to your predictor matrix, and then compute the corresponding model.\n",
    "Does this interaction yield an improvement or rather cause problems?"
   ]
  },
  {
   "cell_type": "code",
   "execution_count": 22,
   "metadata": {},
   "outputs": [
    {
     "data": {
      "text/html": [
       "<table class=\"simpletable\">\n",
       "<caption>OLS Regression Results</caption>\n",
       "<tr>\n",
       "  <th>Dep. Variable:</th>       <td>math score</td>    <th>  R-squared:         </th> <td>   0.872</td>\n",
       "</tr>\n",
       "<tr>\n",
       "  <th>Model:</th>                   <td>OLS</td>       <th>  Adj. R-squared:    </th> <td>   0.870</td>\n",
       "</tr>\n",
       "<tr>\n",
       "  <th>Method:</th>             <td>Least Squares</td>  <th>  F-statistic:       </th> <td>   480.2</td>\n",
       "</tr>\n",
       "<tr>\n",
       "  <th>Date:</th>             <td>Tue, 16 Nov 2021</td> <th>  Prob (F-statistic):</th>  <td>  0.00</td> \n",
       "</tr>\n",
       "<tr>\n",
       "  <th>Time:</th>                 <td>17:57:26</td>     <th>  Log-Likelihood:    </th> <td> -3108.6</td>\n",
       "</tr>\n",
       "<tr>\n",
       "  <th>No. Observations:</th>      <td>  1000</td>      <th>  AIC:               </th> <td>   6247.</td>\n",
       "</tr>\n",
       "<tr>\n",
       "  <th>Df Residuals:</th>          <td>   985</td>      <th>  BIC:               </th> <td>   6321.</td>\n",
       "</tr>\n",
       "<tr>\n",
       "  <th>Df Model:</th>              <td>    14</td>      <th>                     </th>     <td> </td>   \n",
       "</tr>\n",
       "<tr>\n",
       "  <th>Covariance Type:</th>      <td>nonrobust</td>    <th>                     </th>     <td> </td>   \n",
       "</tr>\n",
       "</table>\n",
       "<table class=\"simpletable\">\n",
       "<tr>\n",
       "                        <td></td>                           <th>coef</th>     <th>std err</th>      <th>t</th>      <th>P>|t|</th>  <th>[0.025</th>    <th>0.975]</th>  \n",
       "</tr>\n",
       "<tr>\n",
       "  <th>const</th>                                         <td>  -13.9232</td> <td>    1.878</td> <td>   -7.413</td> <td> 0.000</td> <td>  -17.609</td> <td>  -10.237</td>\n",
       "</tr>\n",
       "<tr>\n",
       "  <th>writing score</th>                                 <td>    0.9931</td> <td>    0.023</td> <td>   43.279</td> <td> 0.000</td> <td>    0.948</td> <td>    1.038</td>\n",
       "</tr>\n",
       "<tr>\n",
       "  <th>gender_male</th>                                   <td>   13.7542</td> <td>    0.370</td> <td>   37.139</td> <td> 0.000</td> <td>   13.027</td> <td>   14.481</td>\n",
       "</tr>\n",
       "<tr>\n",
       "  <th>race/ethnicity_group B</th>                        <td>    0.8986</td> <td>    0.705</td> <td>    1.275</td> <td> 0.203</td> <td>   -0.485</td> <td>    2.282</td>\n",
       "</tr>\n",
       "<tr>\n",
       "  <th>race/ethnicity_group C</th>                        <td>    0.1724</td> <td>    0.661</td> <td>    0.261</td> <td> 0.794</td> <td>   -1.124</td> <td>    1.469</td>\n",
       "</tr>\n",
       "<tr>\n",
       "  <th>race/ethnicity_group D</th>                        <td>   -0.3309</td> <td>    0.678</td> <td>   -0.488</td> <td> 0.626</td> <td>   -1.662</td> <td>    1.000</td>\n",
       "</tr>\n",
       "<tr>\n",
       "  <th>race/ethnicity_group E</th>                        <td>    5.2320</td> <td>    0.750</td> <td>    6.972</td> <td> 0.000</td> <td>    3.759</td> <td>    6.705</td>\n",
       "</tr>\n",
       "<tr>\n",
       "  <th>parental level of education_bachelor's degree</th> <td>   -1.3702</td> <td>    0.625</td> <td>   -2.194</td> <td> 0.028</td> <td>   -2.596</td> <td>   -0.145</td>\n",
       "</tr>\n",
       "<tr>\n",
       "  <th>parental level of education_high school</th>       <td>    0.8152</td> <td>    0.544</td> <td>    1.498</td> <td> 0.134</td> <td>   -0.252</td> <td>    1.883</td>\n",
       "</tr>\n",
       "<tr>\n",
       "  <th>parental level of education_master's degree</th>   <td>   -2.0513</td> <td>    0.807</td> <td>   -2.542</td> <td> 0.011</td> <td>   -3.635</td> <td>   -0.468</td>\n",
       "</tr>\n",
       "<tr>\n",
       "  <th>parental level of education_some college</th>      <td>    0.2990</td> <td>    0.517</td> <td>    0.578</td> <td> 0.563</td> <td>   -0.716</td> <td>    1.314</td>\n",
       "</tr>\n",
       "<tr>\n",
       "  <th>parental level of education_some high school</th>  <td>    0.9089</td> <td>    0.558</td> <td>    1.629</td> <td> 0.104</td> <td>   -0.186</td> <td>    2.004</td>\n",
       "</tr>\n",
       "<tr>\n",
       "  <th>lunch_standard</th>                                <td>    3.0000</td> <td>    0.379</td> <td>    7.908</td> <td> 0.000</td> <td>    2.256</td> <td>    3.744</td>\n",
       "</tr>\n",
       "<tr>\n",
       "  <th>test preparation course_none</th>                  <td>    7.4964</td> <td>    1.900</td> <td>    3.946</td> <td> 0.000</td> <td>    3.768</td> <td>   11.225</td>\n",
       "</tr>\n",
       "<tr>\n",
       "  <th>inter</th>                                         <td>   -0.0466</td> <td>    0.026</td> <td>   -1.791</td> <td> 0.074</td> <td>   -0.098</td> <td>    0.004</td>\n",
       "</tr>\n",
       "</table>\n",
       "<table class=\"simpletable\">\n",
       "<tr>\n",
       "  <th>Omnibus:</th>       <td> 0.673</td> <th>  Durbin-Watson:     </th> <td>   1.972</td>\n",
       "</tr>\n",
       "<tr>\n",
       "  <th>Prob(Omnibus):</th> <td> 0.714</td> <th>  Jarque-Bera (JB):  </th> <td>   0.759</td>\n",
       "</tr>\n",
       "<tr>\n",
       "  <th>Skew:</th>          <td>-0.040</td> <th>  Prob(JB):          </th> <td>   0.684</td>\n",
       "</tr>\n",
       "<tr>\n",
       "  <th>Kurtosis:</th>      <td> 2.891</td> <th>  Cond. No.          </th> <td>1.22e+03</td>\n",
       "</tr>\n",
       "</table><br/><br/>Notes:<br/>[1] Standard Errors assume that the covariance matrix of the errors is correctly specified.<br/>[2] The condition number is large, 1.22e+03. This might indicate that there are<br/>strong multicollinearity or other numerical problems."
      ],
      "text/plain": [
       "<class 'statsmodels.iolib.summary.Summary'>\n",
       "\"\"\"\n",
       "                            OLS Regression Results                            \n",
       "==============================================================================\n",
       "Dep. Variable:             math score   R-squared:                       0.872\n",
       "Model:                            OLS   Adj. R-squared:                  0.870\n",
       "Method:                 Least Squares   F-statistic:                     480.2\n",
       "Date:                Tue, 16 Nov 2021   Prob (F-statistic):               0.00\n",
       "Time:                        17:57:26   Log-Likelihood:                -3108.6\n",
       "No. Observations:                1000   AIC:                             6247.\n",
       "Df Residuals:                     985   BIC:                             6321.\n",
       "Df Model:                          14                                         \n",
       "Covariance Type:            nonrobust                                         \n",
       "=================================================================================================================\n",
       "                                                    coef    std err          t      P>|t|      [0.025      0.975]\n",
       "-----------------------------------------------------------------------------------------------------------------\n",
       "const                                           -13.9232      1.878     -7.413      0.000     -17.609     -10.237\n",
       "writing score                                     0.9931      0.023     43.279      0.000       0.948       1.038\n",
       "gender_male                                      13.7542      0.370     37.139      0.000      13.027      14.481\n",
       "race/ethnicity_group B                            0.8986      0.705      1.275      0.203      -0.485       2.282\n",
       "race/ethnicity_group C                            0.1724      0.661      0.261      0.794      -1.124       1.469\n",
       "race/ethnicity_group D                           -0.3309      0.678     -0.488      0.626      -1.662       1.000\n",
       "race/ethnicity_group E                            5.2320      0.750      6.972      0.000       3.759       6.705\n",
       "parental level of education_bachelor's degree    -1.3702      0.625     -2.194      0.028      -2.596      -0.145\n",
       "parental level of education_high school           0.8152      0.544      1.498      0.134      -0.252       1.883\n",
       "parental level of education_master's degree      -2.0513      0.807     -2.542      0.011      -3.635      -0.468\n",
       "parental level of education_some college          0.2990      0.517      0.578      0.563      -0.716       1.314\n",
       "parental level of education_some high school      0.9089      0.558      1.629      0.104      -0.186       2.004\n",
       "lunch_standard                                    3.0000      0.379      7.908      0.000       2.256       3.744\n",
       "test preparation course_none                      7.4964      1.900      3.946      0.000       3.768      11.225\n",
       "inter                                            -0.0466      0.026     -1.791      0.074      -0.098       0.004\n",
       "==============================================================================\n",
       "Omnibus:                        0.673   Durbin-Watson:                   1.972\n",
       "Prob(Omnibus):                  0.714   Jarque-Bera (JB):                0.759\n",
       "Skew:                          -0.040   Prob(JB):                        0.684\n",
       "Kurtosis:                       2.891   Cond. No.                     1.22e+03\n",
       "==============================================================================\n",
       "\n",
       "Notes:\n",
       "[1] Standard Errors assume that the covariance matrix of the errors is correctly specified.\n",
       "[2] The condition number is large, 1.22e+03. This might indicate that there are\n",
       "strong multicollinearity or other numerical problems.\n",
       "\"\"\""
      ]
     },
     "execution_count": 22,
     "metadata": {},
     "output_type": "execute_result"
    }
   ],
   "source": [
    "Xi = X.copy()\n",
    "Xi[\"inter\"] = Xi.loc[:,\"writing score\"]*Xi.loc[:,\"test preparation course_none\"]\n",
    "\n",
    "# initialize model: OLS = ordinary least squares\n",
    "model2 = sm.OLS(y,Xi)\n",
    "# fit model: only now te model, i.e. the parameters are computed\n",
    "results2 = model2.fit()\n",
    "\n",
    "# print a summary, i.e. an overview on parameters and diagnostics\n",
    "results2.summary()"
   ]
  },
  {
   "cell_type": "markdown",
   "metadata": {},
   "source": [
    "__Answer:__ The interaction term does not seem to improve the R² but rather introduced multicollinaerities to the covariance matrix. Thus, in this case it did not help to improve this model."
   ]
  },
  {
   "cell_type": "markdown",
   "metadata": {},
   "source": [
    "#### d) Checking Residuals\n",
    "Create a residual plot of both your models and give an interpretation of what you observe!"
   ]
  },
  {
   "cell_type": "code",
   "execution_count": 23,
   "metadata": {},
   "outputs": [
    {
     "data": {
      "text/plain": [
       "<matplotlib.lines.Line2D at 0x1ccae956ca0>"
      ]
     },
     "execution_count": 23,
     "metadata": {},
     "output_type": "execute_result"
    },
    {
     "data": {
      "image/png": "[encoded data removed]",
      "text/plain": [
       "<Figure size 432x288 with 1 Axes>"
      ]
     },
     "metadata": {
      "needs_background": "light"
     },
     "output_type": "display_data"
    }
   ],
   "source": [
    "residuals1 = results1.predict(X) - y \n",
    "residuals1\n",
    "plt.scatter(y,residuals1)\n",
    "plt.axhline(y=0, color = \"red\")"
   ]
  },
  {
   "cell_type": "code",
   "execution_count": 24,
   "metadata": {},
   "outputs": [
    {
     "data": {
      "text/plain": [
       "<matplotlib.lines.Line2D at 0x1ccae9c8ac0>"
      ]
     },
     "execution_count": 24,
     "metadata": {},
     "output_type": "execute_result"
    },
    {
     "data": {
      "image/png": "[encoded data removed]",
      "text/plain": [
       "<Figure size 432x288 with 1 Axes>"
      ]
     },
     "metadata": {
      "needs_background": "light"
     },
     "output_type": "display_data"
    }
   ],
   "source": [
    "residuals2 = results2.predict(Xi) - y \n",
    "residuals2\n",
    "plt.scatter(y,residuals2)\n",
    "plt.axhline(y=0, color = \"red\")"
   ]
  },
  {
   "cell_type": "markdown",
   "metadata": {},
   "source": [
    "__Answer:__ Both models appear to predict conservatively, i.e., tend to overestimate where scores are low, and underestimate where the scores are high. This is also due to the natural boundaries in the data, and thus the least-squares estimation accounts for the little skew in the residual plot."
   ]
  }
 ],
 "metadata": {
  "kernelspec": {
   "display_name": "Python 3 (ipykernel)",
   "language": "python",
   "name": "python3"
  },
  "language_info": {
   "codemirror_mode": {
    "name": "ipython",
    "version": 3
   },
   "file_extension": ".py",
   "mimetype": "text/x-python",
   "name": "python",
   "nbconvert_exporter": "python",
   "pygments_lexer": "ipython3",
   "version": "3.9.7"
  }
 },
 "nbformat": 4,
 "nbformat_minor": 2
}
