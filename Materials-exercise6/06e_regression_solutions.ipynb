{
 "cells": [
  {
   "cell_type": "markdown",
   "metadata": {},
   "source": [
    "## Exercise 6: Regression II"
   ]
  },
  {
   "cell_type": "code",
   "execution_count": 1,
   "metadata": {},
   "outputs": [],
   "source": [
    "import numpy as np\n",
    "import pandas as pd\n",
    "import statsmodels.api as sm"
   ]
  },
  {
   "cell_type": "markdown",
   "metadata": {},
   "source": [
    "### Task 1: Logistic Regression with statsmodels\n",
    "\n",
    "Again, we revisit the Student Performance dataset. This time however, we do not focus on predicting test performance, but on predicting whether a student has taken the test preparation course."
   ]
  },
  {
   "cell_type": "code",
   "execution_count": 2,
   "metadata": {},
   "outputs": [],
   "source": [
    "df = pd.read_csv(\"StudentsPerformance.csv\")"
   ]
  },
  {
   "cell_type": "markdown",
   "metadata": {},
   "source": [
    "#### a) Fitting and Model Analysis\n",
    "\n",
    "Preprocess the data like in the previous exercise, i.e. transform categorical variables and remove highly correlated predictors. Then, fit a logistic regression model with statsmodels, that aims to predict the completion of a test preparation course model. Which predictors appear significant?"
   ]
  },
  {
   "cell_type": "code",
   "execution_count": 3,
   "metadata": {},
   "outputs": [
    {
     "name": "stdout",
     "output_type": "stream",
     "text": [
      "(array([0, 0, 0, 1, 1, 1, 2, 2, 2], dtype=int64), array([0, 1, 2, 0, 1, 2, 0, 1, 2], dtype=int64))\n"
     ]
    },
    {
     "data": {
      "text/html": [
       "<div>\n",
       "<style scoped>\n",
       "    .dataframe tbody tr th:only-of-type {\n",
       "        vertical-align: middle;\n",
       "    }\n",
       "\n",
       "    .dataframe tbody tr th {\n",
       "        vertical-align: top;\n",
       "    }\n",
       "\n",
       "    .dataframe thead th {\n",
       "        text-align: right;\n",
       "    }\n",
       "</style>\n",
       "<table border=\"1\" class=\"dataframe\">\n",
       "  <thead>\n",
       "    <tr style=\"text-align: right;\">\n",
       "      <th></th>\n",
       "      <th>gender</th>\n",
       "      <th>race/ethnicity</th>\n",
       "      <th>parental level of education</th>\n",
       "      <th>lunch</th>\n",
       "      <th>test preparation course</th>\n",
       "      <th>math score</th>\n",
       "      <th>writing score</th>\n",
       "    </tr>\n",
       "  </thead>\n",
       "  <tbody>\n",
       "    <tr>\n",
       "      <th>0</th>\n",
       "      <td>female</td>\n",
       "      <td>group B</td>\n",
       "      <td>bachelor's degree</td>\n",
       "      <td>standard</td>\n",
       "      <td>none</td>\n",
       "      <td>72</td>\n",
       "      <td>74</td>\n",
       "    </tr>\n",
       "    <tr>\n",
       "      <th>1</th>\n",
       "      <td>female</td>\n",
       "      <td>group C</td>\n",
       "      <td>some college</td>\n",
       "      <td>standard</td>\n",
       "      <td>completed</td>\n",
       "      <td>69</td>\n",
       "      <td>88</td>\n",
       "    </tr>\n",
       "    <tr>\n",
       "      <th>2</th>\n",
       "      <td>female</td>\n",
       "      <td>group B</td>\n",
       "      <td>master's degree</td>\n",
       "      <td>standard</td>\n",
       "      <td>none</td>\n",
       "      <td>90</td>\n",
       "      <td>93</td>\n",
       "    </tr>\n",
       "    <tr>\n",
       "      <th>3</th>\n",
       "      <td>male</td>\n",
       "      <td>group A</td>\n",
       "      <td>associate's degree</td>\n",
       "      <td>free/reduced</td>\n",
       "      <td>none</td>\n",
       "      <td>47</td>\n",
       "      <td>44</td>\n",
       "    </tr>\n",
       "    <tr>\n",
       "      <th>4</th>\n",
       "      <td>male</td>\n",
       "      <td>group C</td>\n",
       "      <td>some college</td>\n",
       "      <td>standard</td>\n",
       "      <td>none</td>\n",
       "      <td>76</td>\n",
       "      <td>75</td>\n",
       "    </tr>\n",
       "  </tbody>\n",
       "</table>\n",
       "</div>"
      ],
      "text/plain": [
       "   gender race/ethnicity parental level of education         lunch  \\\n",
       "0  female        group B           bachelor's degree      standard   \n",
       "1  female        group C                some college      standard   \n",
       "2  female        group B             master's degree      standard   \n",
       "3    male        group A          associate's degree  free/reduced   \n",
       "4    male        group C                some college      standard   \n",
       "\n",
       "  test preparation course  math score  writing score  \n",
       "0                    none          72             74  \n",
       "1               completed          69             88  \n",
       "2                    none          90             93  \n",
       "3                    none          47             44  \n",
       "4                    none          76             75  "
      ]
     },
     "execution_count": 3,
     "metadata": {},
     "output_type": "execute_result"
    }
   ],
   "source": [
    "print(np.where(df.iloc[:,1:].corr() > 0.8))\n",
    "# writing and reading are highly correlated!\n",
    "df = df.drop(\"reading score\", axis = 1)\n",
    "df.head()"
   ]
  },
  {
   "cell_type": "code",
   "execution_count": 4,
   "metadata": {},
   "outputs": [
    {
     "name": "stdout",
     "output_type": "stream",
     "text": [
      "Optimization terminated successfully.\n",
      "         Current function value: 0.519176\n",
      "         Iterations 6\n"
     ]
    },
    {
     "name": "stderr",
     "output_type": "stream",
     "text": [
      "C:\\Users\\vahee\\anaconda3\\lib\\site-packages\\statsmodels\\tsa\\tsatools.py:142: FutureWarning: In a future version of pandas all arguments of concat except for the argument 'objs' will be keyword-only\n",
      "  x = pd.concat(x[::order], 1)\n"
     ]
    },
    {
     "data": {
      "text/html": [
       "<table class=\"simpletable\">\n",
       "<caption>Logit Regression Results</caption>\n",
       "<tr>\n",
       "  <th>Dep. Variable:</th>           <td>y</td>        <th>  No. Observations:  </th>  <td>  1000</td>  \n",
       "</tr>\n",
       "<tr>\n",
       "  <th>Model:</th>                 <td>Logit</td>      <th>  Df Residuals:      </th>  <td>   986</td>  \n",
       "</tr>\n",
       "<tr>\n",
       "  <th>Method:</th>                 <td>MLE</td>       <th>  Df Model:          </th>  <td>    13</td>  \n",
       "</tr>\n",
       "<tr>\n",
       "  <th>Date:</th>            <td>Sat, 17 Sep 2022</td> <th>  Pseudo R-squ.:     </th>  <td>0.2040</td>  \n",
       "</tr>\n",
       "<tr>\n",
       "  <th>Time:</th>                <td>16:05:19</td>     <th>  Log-Likelihood:    </th> <td> -519.18</td> \n",
       "</tr>\n",
       "<tr>\n",
       "  <th>converged:</th>             <td>True</td>       <th>  LL-Null:           </th> <td> -652.26</td> \n",
       "</tr>\n",
       "<tr>\n",
       "  <th>Covariance Type:</th>     <td>nonrobust</td>    <th>  LLR p-value:       </th> <td>2.783e-49</td>\n",
       "</tr>\n",
       "</table>\n",
       "<table class=\"simpletable\">\n",
       "<tr>\n",
       "                        <td></td>                           <th>coef</th>     <th>std err</th>      <th>z</th>      <th>P>|z|</th>  <th>[0.025</th>    <th>0.975]</th>  \n",
       "</tr>\n",
       "<tr>\n",
       "  <th>const</th>                                         <td>   -6.5128</td> <td>    0.602</td> <td>  -10.819</td> <td> 0.000</td> <td>   -7.693</td> <td>   -5.333</td>\n",
       "</tr>\n",
       "<tr>\n",
       "  <th>math score</th>                                    <td>   -0.1408</td> <td>    0.015</td> <td>   -9.562</td> <td> 0.000</td> <td>   -0.170</td> <td>   -0.112</td>\n",
       "</tr>\n",
       "<tr>\n",
       "  <th>writing score</th>                                 <td>    0.2029</td> <td>    0.016</td> <td>   12.476</td> <td> 0.000</td> <td>    0.171</td> <td>    0.235</td>\n",
       "</tr>\n",
       "<tr>\n",
       "  <th>gender_male</th>                                   <td>    2.5808</td> <td>    0.264</td> <td>    9.774</td> <td> 0.000</td> <td>    2.063</td> <td>    3.098</td>\n",
       "</tr>\n",
       "<tr>\n",
       "  <th>lunch_standard</th>                                <td>   -0.2120</td> <td>    0.173</td> <td>   -1.229</td> <td> 0.219</td> <td>   -0.550</td> <td>    0.126</td>\n",
       "</tr>\n",
       "<tr>\n",
       "  <th>parental level of education_bachelor's degree</th> <td>   -0.3618</td> <td>    0.271</td> <td>   -1.334</td> <td> 0.182</td> <td>   -0.893</td> <td>    0.170</td>\n",
       "</tr>\n",
       "<tr>\n",
       "  <th>parental level of education_high school</th>       <td>    0.1344</td> <td>    0.244</td> <td>    0.552</td> <td> 0.581</td> <td>   -0.343</td> <td>    0.612</td>\n",
       "</tr>\n",
       "<tr>\n",
       "  <th>parental level of education_master's degree</th>   <td>   -0.7112</td> <td>    0.355</td> <td>   -2.005</td> <td> 0.045</td> <td>   -1.406</td> <td>   -0.016</td>\n",
       "</tr>\n",
       "<tr>\n",
       "  <th>parental level of education_some college</th>      <td>   -0.0260</td> <td>    0.227</td> <td>   -0.114</td> <td> 0.909</td> <td>   -0.471</td> <td>    0.419</td>\n",
       "</tr>\n",
       "<tr>\n",
       "  <th>parental level of education_some high school</th>  <td>    0.7492</td> <td>    0.243</td> <td>    3.084</td> <td> 0.002</td> <td>    0.273</td> <td>    1.225</td>\n",
       "</tr>\n",
       "<tr>\n",
       "  <th>race/ethnicity_group B</th>                        <td>    0.2198</td> <td>    0.316</td> <td>    0.694</td> <td> 0.487</td> <td>   -0.401</td> <td>    0.840</td>\n",
       "</tr>\n",
       "<tr>\n",
       "  <th>race/ethnicity_group C</th>                        <td>    0.0452</td> <td>    0.294</td> <td>    0.154</td> <td> 0.878</td> <td>   -0.532</td> <td>    0.622</td>\n",
       "</tr>\n",
       "<tr>\n",
       "  <th>race/ethnicity_group D</th>                        <td>   -0.5261</td> <td>    0.305</td> <td>   -1.725</td> <td> 0.085</td> <td>   -1.124</td> <td>    0.072</td>\n",
       "</tr>\n",
       "<tr>\n",
       "  <th>race/ethnicity_group E</th>                        <td>    0.8554</td> <td>    0.340</td> <td>    2.519</td> <td> 0.012</td> <td>    0.190</td> <td>    1.521</td>\n",
       "</tr>\n",
       "</table>"
      ],
      "text/plain": [
       "<class 'statsmodels.iolib.summary.Summary'>\n",
       "\"\"\"\n",
       "                           Logit Regression Results                           \n",
       "==============================================================================\n",
       "Dep. Variable:                      y   No. Observations:                 1000\n",
       "Model:                          Logit   Df Residuals:                      986\n",
       "Method:                           MLE   Df Model:                           13\n",
       "Date:                Sat, 17 Sep 2022   Pseudo R-squ.:                  0.2040\n",
       "Time:                        16:05:19   Log-Likelihood:                -519.18\n",
       "converged:                       True   LL-Null:                       -652.26\n",
       "Covariance Type:            nonrobust   LLR p-value:                 2.783e-49\n",
       "=================================================================================================================\n",
       "                                                    coef    std err          z      P>|z|      [0.025      0.975]\n",
       "-----------------------------------------------------------------------------------------------------------------\n",
       "const                                            -6.5128      0.602    -10.819      0.000      -7.693      -5.333\n",
       "math score                                       -0.1408      0.015     -9.562      0.000      -0.170      -0.112\n",
       "writing score                                     0.2029      0.016     12.476      0.000       0.171       0.235\n",
       "gender_male                                       2.5808      0.264      9.774      0.000       2.063       3.098\n",
       "lunch_standard                                   -0.2120      0.173     -1.229      0.219      -0.550       0.126\n",
       "parental level of education_bachelor's degree    -0.3618      0.271     -1.334      0.182      -0.893       0.170\n",
       "parental level of education_high school           0.1344      0.244      0.552      0.581      -0.343       0.612\n",
       "parental level of education_master's degree      -0.7112      0.355     -2.005      0.045      -1.406      -0.016\n",
       "parental level of education_some college         -0.0260      0.227     -0.114      0.909      -0.471       0.419\n",
       "parental level of education_some high school      0.7492      0.243      3.084      0.002       0.273       1.225\n",
       "race/ethnicity_group B                            0.2198      0.316      0.694      0.487      -0.401       0.840\n",
       "race/ethnicity_group C                            0.0452      0.294      0.154      0.878      -0.532       0.622\n",
       "race/ethnicity_group D                           -0.5261      0.305     -1.725      0.085      -1.124       0.072\n",
       "race/ethnicity_group E                            0.8554      0.340      2.519      0.012       0.190       1.521\n",
       "=================================================================================================================\n",
       "\"\"\""
      ]
     },
     "execution_count": 4,
     "metadata": {},
     "output_type": "execute_result"
    }
   ],
   "source": [
    "# transform categorical to multiple dummies variables (drop one category to avoid collinearities)\n",
    "X = pd.get_dummies(df[df.columns.difference([\"test preparation course\"])], drop_first = True)\n",
    "\n",
    "X = sm.add_constant(X)\n",
    "y = np.where(df[\"test preparation course\"].str.contains(\"none\"), 0, 1)\n",
    "\n",
    "# fit model - note shorter syntax\n",
    "results = sm.Logit(y, X).fit()\n",
    "\n",
    "# print summary\n",
    "results.summary()"
   ]
  },
  {
   "cell_type": "markdown",
   "metadata": {},
   "source": [
    "#### b) Diagnostics 1: Accuracy and Confusion Matrix\n",
    "\n",
    "Write a two function that take as input a vector y of the true classes, and a vector y_hat of the predicted classes. Let the first one return the accuracy of the prediction, i.e. the ratio of correctly predicted samples, and the second one compute the confusion matrix as introduced in class.\n",
    "Apply your function on your model from a)."
   ]
  },
  {
   "cell_type": "code",
   "execution_count": 13,
   "metadata": {},
   "outputs": [],
   "source": [
    "def accuracy(y,y_hat):\n",
    "    \"\"\"\n",
    "    :param y: 1-dimensional array of true target values\n",
    "    :param y_hat: 1-dimensional array of predicted target values\n",
    "    :return: AUC score as float\n",
    "    \"\"\"\n",
    "    print(y==y_hat)\n",
    "    return sum(y==y_hat)*1.0/len(y)"
   ]
  },
  {
   "cell_type": "code",
   "execution_count": 14,
   "metadata": {},
   "outputs": [
    {
     "name": "stdout",
     "output_type": "stream",
     "text": [
      "0       True\n",
      "1       True\n",
      "2       True\n",
      "3       True\n",
      "4      False\n",
      "       ...  \n",
      "995     True\n",
      "996     True\n",
      "997    False\n",
      "998    False\n",
      "999     True\n",
      "Length: 1000, dtype: bool\n",
      "0.742\n"
     ]
    }
   ],
   "source": [
    "y_hat = (results.predict(X) >= 0.5).astype(int)\n",
    "print(accuracy(y,y_hat))"
   ]
  },
  {
   "cell_type": "code",
   "execution_count": 11,
   "metadata": {},
   "outputs": [],
   "source": [
    "def confusion_matrix(y,y_hat):\n",
    "    \"\"\"\n",
    "    :param y: 1-dimensional array of true target values\n",
    "    :param y_hat: 1-dimensional array of predicted target values\n",
    "    :return: AUC score as float\n",
    "    \"\"\"\n",
    "    CM = np.zeros((2,2))\n",
    "    for i in range(len(y)):\n",
    "        CM[y_hat[i],y[i]] +=1\n",
    "    return CM"
   ]
  },
  {
   "cell_type": "code",
   "execution_count": 12,
   "metadata": {},
   "outputs": [
    {
     "name": "stdout",
     "output_type": "stream",
     "text": [
      "[[549. 165.]\n",
      " [ 93. 193.]]\n"
     ]
    }
   ],
   "source": [
    "y_hat = (results.predict(X) >= 0.5).astype(int)\n",
    "print(confusion_matrix(y,y_hat))"
   ]
  },
  {
   "cell_type": "markdown",
   "metadata": {},
   "source": [
    "#### c) Diagnostics 2: The ROC Curve\n",
    "\n",
    "Write a function that takes as input a vector of the true classes, and a vector of the predicted probabilities resulting from the logistic regression, plots the ROC curve of the model, and returns the corresponding AUC score.\n",
    "Apply your function on your model from a)."
   ]
  },
  {
   "cell_type": "code",
   "execution_count": 13,
   "metadata": {
    "scrolled": true
   },
   "outputs": [],
   "source": [
    "from matplotlib import pyplot as plt\n",
    "\n",
    "def ROC(y, yp):\n",
    "    \"\"\"\n",
    "    :param y: 1-dimensional array of true target values\n",
    "    :param yp: 1-dimensional array of predicted target probabilities\n",
    "    :return: AUC score as float\n",
    "    \"\"\"\n",
    "    n = len(y)\n",
    "    thresholds = np.sort(yp)\n",
    "    TPR, FPR = np.zeros(n),np.zeros(n)\n",
    "    for i in range(n):\n",
    "        CM = confusion_matrix(y,(yp>=thresholds[i]).astype(int))\n",
    "        FPR[i], TPR[i] = CM[1,0]/np.sum(CM[:,0]), CM[1,1]/np.sum(CM[:,1])\n",
    "        \n",
    "    plt.plot(FPR,TPR, color = \"red\")\n",
    "    plt.plot([0,1],[0,1], color = \"blue\")\n",
    "    plt.xlim(0,1)\n",
    "    plt.ylim(0,1)\n",
    "    plt.show()\n",
    "    \n",
    "    return (np.sum(TPR)/n)"
   ]
  },
  {
   "cell_type": "code",
   "execution_count": 14,
   "metadata": {},
   "outputs": [
    {
     "data": {
      "image/png": "[encoded data removed]",
      "text/plain": [
       "<Figure size 432x288 with 1 Axes>"
      ]
     },
     "metadata": {
      "needs_background": "light"
     },
     "output_type": "display_data"
    },
    {
     "data": {
      "text/plain": [
       "0.6877988826815642"
      ]
     },
     "execution_count": 14,
     "metadata": {},
     "output_type": "execute_result"
    }
   ],
   "source": [
    "ROC(y, results.predict(X))"
   ]
  },
  {
   "cell_type": "markdown",
   "metadata": {},
   "source": [
    "### Example: Regression with Scikit-learn\n",
    "\n",
    "We briefly introduce the main functionalities of the `scikit-learn` package, which we will be working with in task 2. Once again, we will revisit the Iris dataset and try to predict petal width. Note that there is an extensive documentation on the package: https://scikit-learn.org/stable/documentation.html"
   ]
  },
  {
   "cell_type": "code",
   "execution_count": 15,
   "metadata": {
    "scrolled": true
   },
   "outputs": [
    {
     "name": "stdout",
     "output_type": "stream",
     "text": [
      ".. _iris_dataset:\n",
      "\n",
      "Iris plants dataset\n",
      "--------------------\n",
      "\n",
      "**Data Set Characteristics:**\n",
      "\n",
      "    :Number of Instances: 150 (50 in each of three classes)\n",
      "    :Number of Attributes: 4 numeric, predictive attributes and the class\n",
      "    :Attribute Information:\n",
      "        - sepal length in cm\n",
      "        - sepal width in cm\n",
      "        - petal length in cm\n",
      "        - petal width in cm\n",
      "        - class:\n",
      "                - Iris-Setosa\n",
      "                - Iris-Versicolour\n",
      "                - Iris-Virginica\n",
      "                \n",
      "    :Summary Statistics:\n",
      "\n",
      "    ============== ==== ==== ======= ===== ====================\n",
      "                    Min  Max   Mean    SD   Class Correlation\n",
      "    ============== ==== ==== ======= ===== ====================\n",
      "    sepal length:   4.3  7.9   5.84   0.83    0.7826\n",
      "    sepal width:    2.0  4.4   3.05   0.43   -0.4194\n",
      "    petal length:   1.0  6.9   3.76   1.76    0.9490  (high!)\n",
      "    petal width:    0.1  2.5   1.20   0.76    0.9565  (high!)\n",
      "    ============== ==== ==== ======= ===== ====================\n",
      "\n",
      "    :Missing Attribute Values: None\n",
      "    :Class Distribution: 33.3% for each of 3 classes.\n",
      "    :Creator: R.A. Fisher\n",
      "    :Donor: Michael Marshall (MARSHALL%PLU@io.arc.nasa.gov)\n",
      "    :Date: July, 1988\n",
      "\n",
      "The famous Iris database, first used by Sir R.A. Fisher. The dataset is taken\n",
      "from Fisher's paper. Note that it's the same as in R, but not as in the UCI\n",
      "Machine Learning Repository, which has two wrong data points.\n",
      "\n",
      "This is perhaps the best known database to be found in the\n",
      "pattern recognition literature.  Fisher's paper is a classic in the field and\n",
      "is referenced frequently to this day.  (See Duda & Hart, for example.)  The\n",
      "data set contains 3 classes of 50 instances each, where each class refers to a\n",
      "type of iris plant.  One class is linearly separable from the other 2; the\n",
      "latter are NOT linearly separable from each other.\n",
      "\n",
      ".. topic:: References\n",
      "\n",
      "   - Fisher, R.A. \"The use of multiple measurements in taxonomic problems\"\n",
      "     Annual Eugenics, 7, Part II, 179-188 (1936); also in \"Contributions to\n",
      "     Mathematical Statistics\" (John Wiley, NY, 1950).\n",
      "   - Duda, R.O., & Hart, P.E. (1973) Pattern Classification and Scene Analysis.\n",
      "     (Q327.D83) John Wiley & Sons.  ISBN 0-471-22361-1.  See page 218.\n",
      "   - Dasarathy, B.V. (1980) \"Nosing Around the Neighborhood: A New System\n",
      "     Structure and Classification Rule for Recognition in Partially Exposed\n",
      "     Environments\".  IEEE Transactions on Pattern Analysis and Machine\n",
      "     Intelligence, Vol. PAMI-2, No. 1, 67-71.\n",
      "   - Gates, G.W. (1972) \"The Reduced Nearest Neighbor Rule\".  IEEE Transactions\n",
      "     on Information Theory, May 1972, 431-433.\n",
      "   - See also: 1988 MLC Proceedings, 54-64.  Cheeseman et al\"s AUTOCLASS II\n",
      "     conceptual clustering system finds 3 classes in the data.\n",
      "   - Many, many more ...\n"
     ]
    }
   ],
   "source": [
    "from sklearn import datasets\n",
    "\n",
    "# import the iris dataset - it is actually incorporated in the library\n",
    "iris = datasets.load_iris()\n",
    "\n",
    "# recall the details on the dataset\n",
    "print(iris.DESCR)"
   ]
  },
  {
   "cell_type": "markdown",
   "metadata": {},
   "source": [
    "#### a) Splitting training and test data"
   ]
  },
  {
   "cell_type": "code",
   "execution_count": 16,
   "metadata": {},
   "outputs": [],
   "source": [
    "# predict petal width from the previous three columns\n",
    "# X: Feature matrix, y: target vector\n",
    "X = iris.data[:, :3]\n",
    "y = iris.data[:,3]\n",
    "\n",
    "# sklearn provides various functionalities to crossvalidate model performance\n",
    "from sklearn.model_selection import train_test_split\n",
    "\n",
    "# randomly split data into training and test\n",
    "X_train, X_test, y_train, y_test = train_test_split(X, y, test_size = 0.4, random_state = 5)"
   ]
  },
  {
   "cell_type": "markdown",
   "metadata": {},
   "source": [
    "#### b) Fitting a Model"
   ]
  },
  {
   "cell_type": "code",
   "execution_count": 17,
   "metadata": {},
   "outputs": [
    {
     "name": "stdout",
     "output_type": "stream",
     "text": [
      "[-0.20236345  0.22293855  0.52714255]\n",
      "-0.2894887294292616\n"
     ]
    }
   ],
   "source": [
    "# main precedure after having chosen the model: initialize, fit and predict\n",
    "from sklearn.linear_model import LinearRegression\n",
    "\n",
    "# initialize model - at this point you usually specify all parameters for model optimization\n",
    "reg = LinearRegression(fit_intercept=True)\n",
    "\n",
    "# fit: other than in statsmodels, training and test data are passed here\n",
    "reg.fit(X_train, y_train)\n",
    "\n",
    "print(reg.coef_)\n",
    "print(reg.intercept_)"
   ]
  },
  {
   "cell_type": "markdown",
   "metadata": {},
   "source": [
    "#### c) Model evaluation"
   ]
  },
  {
   "cell_type": "code",
   "execution_count": 18,
   "metadata": {
    "scrolled": false
   },
   "outputs": [
    {
     "name": "stdout",
     "output_type": "stream",
     "text": [
      "0.03420564394660441\n",
      "0.9375970738465949\n",
      "0.9375970738465949\n"
     ]
    }
   ],
   "source": [
    "from sklearn.metrics import mean_squared_error, r2_score\n",
    "\n",
    "# model evaluation -> sklearn also provides many functionalities to mearure the \n",
    "# performance of both regressors and classifiers\n",
    "\n",
    "# apply your model on training data\n",
    "y_pred = reg.predict(X_test)\n",
    "\n",
    "print(mean_squared_error(y_test,y_pred))\n",
    "print(r2_score(y_test,y_pred))\n",
    "\n",
    "# R² can also directly be computed from the model\n",
    "print(reg.score(X_test,y_test))"
   ]
  },
  {
   "cell_type": "markdown",
   "metadata": {},
   "source": [
    "### Task 2: Predicting House Prices from Regularized Regression\n",
    "\n",
    "In this task we want to utilize the functionalities of `sklearn` to predict house prices in the _Boston House Prices_ dataset that is also conveniently incorporated in `sklearn`. We load the data in the cell below and print its decription. Note that it is in a _bunch_ format, so that the actual data still has to be extracted. Feel free to explore the data yourself."
   ]
  },
  {
   "cell_type": "code",
   "execution_count": 19,
   "metadata": {},
   "outputs": [
    {
     "name": "stdout",
     "output_type": "stream",
     "text": [
      ".. _boston_dataset:\n",
      "\n",
      "Boston house prices dataset\n",
      "---------------------------\n",
      "\n",
      "**Data Set Characteristics:**  \n",
      "\n",
      "    :Number of Instances: 506 \n",
      "\n",
      "    :Number of Attributes: 13 numeric/categorical predictive. Median Value (attribute 14) is usually the target.\n",
      "\n",
      "    :Attribute Information (in order):\n",
      "        - CRIM     per capita crime rate by town\n",
      "        - ZN       proportion of residential land zoned for lots over 25,000 sq.ft.\n",
      "        - INDUS    proportion of non-retail business acres per town\n",
      "        - CHAS     Charles River dummy variable (= 1 if tract bounds river; 0 otherwise)\n",
      "        - NOX      nitric oxides concentration (parts per 10 million)\n",
      "        - RM       average number of rooms per dwelling\n",
      "        - AGE      proportion of owner-occupied units built prior to 1940\n",
      "        - DIS      weighted distances to five Boston employment centres\n",
      "        - RAD      index of accessibility to radial highways\n",
      "        - TAX      full-value property-tax rate per $10,000\n",
      "        - PTRATIO  pupil-teacher ratio by town\n",
      "        - B        1000(Bk - 0.63)^2 where Bk is the proportion of black people by town\n",
      "        - LSTAT    % lower status of the population\n",
      "        - MEDV     Median value of owner-occupied homes in $1000's\n",
      "\n",
      "    :Missing Attribute Values: None\n",
      "\n",
      "    :Creator: Harrison, D. and Rubinfeld, D.L.\n",
      "\n",
      "This is a copy of UCI ML housing dataset.\n",
      "https://archive.ics.uci.edu/ml/machine-learning-databases/housing/\n",
      "\n",
      "\n",
      "This dataset was taken from the StatLib library which is maintained at Carnegie Mellon University.\n",
      "\n",
      "The Boston house-price data of Harrison, D. and Rubinfeld, D.L. 'Hedonic\n",
      "prices and the demand for clean air', J. Environ. Economics & Management,\n",
      "vol.5, 81-102, 1978.   Used in Belsley, Kuh & Welsch, 'Regression diagnostics\n",
      "...', Wiley, 1980.   N.B. Various transformations are used in the table on\n",
      "pages 244-261 of the latter.\n",
      "\n",
      "The Boston house-price data has been used in many machine learning papers that address regression\n",
      "problems.   \n",
      "     \n",
      ".. topic:: References\n",
      "\n",
      "   - Belsley, Kuh & Welsch, 'Regression diagnostics: Identifying Influential Data and Sources of Collinearity', Wiley, 1980. 244-261.\n",
      "   - Quinlan,R. (1993). Combining Instance-Based and Model-Based Learning. In Proceedings on the Tenth International Conference of Machine Learning, 236-243, University of Massachusetts, Amherst. Morgan Kaufmann.\n",
      "\n"
     ]
    }
   ],
   "source": [
    "# load data and its description - feel free to further explore the data yourself\n",
    "dta = datasets.load_boston()\n",
    "print(dta.DESCR)"
   ]
  },
  {
   "cell_type": "markdown",
   "metadata": {},
   "source": [
    "#### a) Splitting training and test data\n",
    "\n",
    "We want to evaluate our models on some held-out test set. Get predictors and target variable from the bunch object, and split both into training and test set, using a 60/40 split ration. Make sure your data has been shuffled properly before splitting."
   ]
  },
  {
   "cell_type": "code",
   "execution_count": 20,
   "metadata": {},
   "outputs": [],
   "source": [
    "from sklearn.model_selection import train_test_split\n",
    "\n",
    "X = dta.data\n",
    "y = dta.target\n",
    "\n",
    "# train_test_split has a built-in shuffling functionality\n",
    "X_train, X_test, y_train, y_test = train_test_split(X, y, test_size = 0.4, random_state = 5)"
   ]
  },
  {
   "cell_type": "markdown",
   "metadata": {},
   "source": [
    "#### b) OLS regression\n",
    "\n",
    "Fit a simple OLS model on the training data, and compute both MSE and R² score on training and test data. How would you rate the quality of your model?"
   ]
  },
  {
   "cell_type": "code",
   "execution_count": 21,
   "metadata": {},
   "outputs": [
    {
     "name": "stdout",
     "output_type": "stream",
     "text": [
      "18.89320758322978\n",
      "0.7647462805122287\n",
      "29.031958421325076\n",
      "0.6793836995445839\n"
     ]
    }
   ],
   "source": [
    "from sklearn.linear_model import LinearRegression\n",
    "from sklearn.metrics import mean_squared_error, r2_score\n",
    "\n",
    "reg = LinearRegression()\n",
    "reg.fit(X_train, y_train)\n",
    "y_pred = reg.predict(X_train)\n",
    "\n",
    "print(mean_squared_error(y_train,y_pred))\n",
    "print(r2_score(y_train,y_pred))\n",
    "\n",
    "\n",
    "y_pred = reg.predict(X_test)\n",
    "\n",
    "print(mean_squared_error(y_test,y_pred))\n",
    "print(r2_score(y_test,y_pred))"
   ]
  },
  {
   "cell_type": "markdown",
   "metadata": {},
   "source": [
    "**Answer**: Overall the model yields a decent $R^2$ score, and it also appears to generalize reasonably well to the test data. "
   ]
  },
  {
   "cell_type": "markdown",
   "metadata": {},
   "source": [
    "#### c) Overfitting Polynomial Models\n",
    "\n",
    "Apply a preprocessing functionality in `sklearn` to extent your predictors to polynomials of degree 3.\n",
    "Fit a new model on the new training data, and apply it on the new test data. What do you observe regarding the scores on the test data?"
   ]
  },
  {
   "cell_type": "code",
   "execution_count": 22,
   "metadata": {},
   "outputs": [],
   "source": [
    "from sklearn.preprocessing import PolynomialFeatures\n",
    "\n",
    "poly = PolynomialFeatures(3)\n",
    "X = poly.fit_transform(X)\n",
    "\n",
    "X_train, X_test, y_train, y_test = train_test_split(X, y, test_size = 0.4, random_state = 5)"
   ]
  },
  {
   "cell_type": "code",
   "execution_count": 23,
   "metadata": {},
   "outputs": [
    {
     "data": {
      "text/plain": [
       "(303, 560)"
      ]
     },
     "execution_count": 23,
     "metadata": {},
     "output_type": "execute_result"
    }
   ],
   "source": [
    "X_train.shape"
   ]
  },
  {
   "cell_type": "code",
   "execution_count": 24,
   "metadata": {},
   "outputs": [
    {
     "name": "stdout",
     "output_type": "stream",
     "text": [
      "4.627518179839402e-18\n",
      "1.0\n"
     ]
    }
   ],
   "source": [
    "reg = LinearRegression()\n",
    "reg.fit(X_train, y_train)\n",
    "y_pred = reg.predict(X_train)\n",
    "\n",
    "print(mean_squared_error(y_train,y_pred))\n",
    "print(r2_score(y_train,y_pred))"
   ]
  },
  {
   "cell_type": "code",
   "execution_count": 25,
   "metadata": {},
   "outputs": [
    {
     "name": "stdout",
     "output_type": "stream",
     "text": [
      "10938.964433090692\n",
      "-119.80515742178584\n"
     ]
    }
   ],
   "source": [
    "\n",
    "y_pred = reg.predict(X_test)\n",
    "\n",
    "print(mean_squared_error(y_test,y_pred))\n",
    "print(r2_score(y_test,y_pred))"
   ]
  },
  {
   "cell_type": "markdown",
   "metadata": {},
   "source": [
    "**Answer**: When training on the polynomial features, the model severely overfits to the training data as can be seen be the negative $R^2$ score and the huge MSE on the test data."
   ]
  },
  {
   "cell_type": "markdown",
   "metadata": {},
   "source": [
    "#### d) Regularization to the Rescue\n",
    "\n",
    "To ensure that our data generalizes well, we want to apply ridge regression. This however requires that the input data has been scaled properly. Again use a preprocessing functionality in sklearn to scale your data to enable a proper fit. Be careful with the intercept when scaling the data! \n",
    "\n",
    "After scaling, fit a ridge regression model using the default parameters, and evaluate the model performance on the test set.\n",
    "What do you observe?"
   ]
  },
  {
   "cell_type": "code",
   "execution_count": 26,
   "metadata": {},
   "outputs": [
    {
     "name": "stdout",
     "output_type": "stream",
     "text": [
      "12.192888048179837\n",
      "0.8653470564699144\n"
     ]
    }
   ],
   "source": [
    "from sklearn.preprocessing import StandardScaler,MinMaxScaler\n",
    "from sklearn.linear_model import Ridge\n",
    "\n",
    "scaler = MinMaxScaler()\n",
    "scaler.fit(X_train)\n",
    "X_train_scaled=scaler.transform(X_train)\n",
    "X_test_scaled=scaler.transform(X_test)\n",
    "\n",
    "reg = Ridge(alpha=1, fit_intercept=False)\n",
    "reg.fit(X_train_scaled, y_train)\n",
    "y_pred = reg.predict(X_test_scaled)\n",
    "\n",
    "print(mean_squared_error(y_test,y_pred))\n",
    "print(r2_score(y_test,y_pred))"
   ]
  },
  {
   "cell_type": "markdown",
   "metadata": {},
   "source": [
    "**Answer:** Due to the regularization, the regression model suddenly generalizes very well, even achieving much better performance on the test set than before when we did not include the polynomial features. Thus, including the polynomial features added much value to the model, but without regularization, the resulting amount of features would naturally tend to overfit."
   ]
  },
  {
   "cell_type": "markdown",
   "metadata": {},
   "source": [
    "#### e) Parameter Optimization\n",
    "\n",
    "We further want to improve our model by optimizing the regularization weight $\\alpha$.\n",
    "Iterate through a set of potential values $\\alpha_i\\in[0.001,1000]$, and based on each value $\\alpha_i$, perform 10-fold cross-validation on the training set to estimate the performance of a ridge regression model with that regression weight. Determine which value $\\alpha$ obtained the best cross-validated R² scores, and use this value to fit a model on the complete training data and evaluate it on the test data.  \n",
    "Note that sklearn also provides a number of handy functionalities to perform cross-validation."
   ]
  },
  {
   "cell_type": "code",
   "execution_count": 27,
   "metadata": {},
   "outputs": [
    {
     "name": "stdout",
     "output_type": "stream",
     "text": [
      "0.001\n",
      "0.5374907612385763\n",
      "0.005\n",
      "0.7129937035741862\n",
      "0.01\n",
      "0.7549806628828861\n",
      "0.05\n",
      "0.8033765963775694\n",
      "0.1\n",
      "0.8109455932067778\n",
      "0.5\n",
      "0.8207234127957885\n",
      "1\n",
      "0.818669330681691\n",
      "5\n",
      "0.770212517357783\n",
      "10\n",
      "0.7294378857016166\n",
      "50\n",
      "0.5821444476238564\n",
      "100\n",
      "0.47312420739773736\n"
     ]
    }
   ],
   "source": [
    "from sklearn.model_selection import cross_val_score\n",
    "\n",
    "for alpha in [0.001,0.005,0.01,0.05,0.1,0.5,1,5,10,50,100]:\n",
    "    rr = Ridge(alpha=alpha, fit_intercept=False)\n",
    "    print(alpha)\n",
    "    # apply sklearn's cross_val_score, which on regression models automatically outputs the R² scores for each fold. \n",
    "    # we use the mean score for each value of alpha to evaluate its ability to generalize\n",
    "    print(np.mean(cross_val_score(rr, X_train_scaled, y_train, cv=5)))"
   ]
  },
  {
   "cell_type": "markdown",
   "metadata": {},
   "source": [
    "**Answer:** Among the values we considered, $\\alpha = 0.5$ appeared to yield the cross-validated performance on the training data.  \n",
    "Further, it can be observed how for lower values, the model tended to overfit, while for higher values the regression weights became too restricted to work well."
   ]
  },
  {
   "cell_type": "code",
   "execution_count": 28,
   "metadata": {},
   "outputs": [
    {
     "name": "stdout",
     "output_type": "stream",
     "text": [
      "11.092211818124762\n",
      "0.877502445223167\n"
     ]
    }
   ],
   "source": [
    "reg = Ridge(alpha=0.5, fit_intercept=False)\n",
    "reg.fit(X_train_scaled, y_train)\n",
    "y_pred = reg.predict(X_test_scaled)\n",
    "\n",
    "print(mean_squared_error(y_test,y_pred))\n",
    "print(r2_score(y_test,y_pred))"
   ]
  }
 ],
 "metadata": {
  "kernelspec": {
   "display_name": "Python 3 (ipykernel)",
   "language": "python",
   "name": "python3"
  },
  "language_info": {
   "codemirror_mode": {
    "name": "ipython",
    "version": 3
   },
   "file_extension": ".py",
   "mimetype": "text/x-python",
   "name": "python",
   "nbconvert_exporter": "python",
   "pygments_lexer": "ipython3",
   "version": "3.9.7"
  }
 },
 "nbformat": 4,
 "nbformat_minor": 2
}
